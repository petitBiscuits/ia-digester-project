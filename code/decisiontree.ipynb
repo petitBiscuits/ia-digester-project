{
 "cells": [
  {
   "cell_type": "markdown",
   "metadata": {},
   "source": [
    "# Decision Tree\n",
    "### Read the CSV\n",
    "Author : Izzo Valentino"
   ]
  },
  {
   "cell_type": "code",
   "execution_count": 84,
   "metadata": {},
   "outputs": [
    {
     "data": {
      "text/html": [
       "<div>\n",
       "<style scoped>\n",
       "    .dataframe tbody tr th:only-of-type {\n",
       "        vertical-align: middle;\n",
       "    }\n",
       "\n",
       "    .dataframe tbody tr th {\n",
       "        vertical-align: top;\n",
       "    }\n",
       "\n",
       "    .dataframe thead th {\n",
       "        text-align: right;\n",
       "    }\n",
       "</style>\n",
       "<table border=\"1\" class=\"dataframe\">\n",
       "  <thead>\n",
       "    <tr style=\"text-align: right;\">\n",
       "      <th></th>\n",
       "      <th>Wash Filtrate to Digester - Total Flow</th>\n",
       "      <th>Wash Filtrate Vertical Nozzle</th>\n",
       "      <th>White Liquor Flow to ITC</th>\n",
       "      <th>H-factor</th>\n",
       "      <th>H-factor Co-Current</th>\n",
       "      <th>H-factor Target</th>\n",
       "      <th>H-factor Counter-Current</th>\n",
       "      <th>Volumetric Chip Flow</th>\n",
       "      <th>Chip Mass Flow from Piles</th>\n",
       "      <th>Spruce Saw Mill Chips Share</th>\n",
       "      <th>...</th>\n",
       "      <th>Hot Spent Digester Liquor Specific Flow to Impregnation Vessel</th>\n",
       "      <th>Digester Production</th>\n",
       "      <th>Digester Long Level</th>\n",
       "      <th>Digester Chip Level Control</th>\n",
       "      <th>Digester Dilution Factor</th>\n",
       "      <th>Digester Short Level</th>\n",
       "      <th>Blow Kappa</th>\n",
       "      <th>Blow Temperature</th>\n",
       "      <th>Blow Production</th>\n",
       "      <th>Weak Black Liquor to Evaporation Plant Residual Alkali</th>\n",
       "    </tr>\n",
       "  </thead>\n",
       "  <tbody>\n",
       "    <tr>\n",
       "      <th>count</th>\n",
       "      <td>5968.000000</td>\n",
       "      <td>5968.000000</td>\n",
       "      <td>5968.000000</td>\n",
       "      <td>5968.000000</td>\n",
       "      <td>5968.000000</td>\n",
       "      <td>5968.000000</td>\n",
       "      <td>5968.000000</td>\n",
       "      <td>5968.000000</td>\n",
       "      <td>5968.000000</td>\n",
       "      <td>5968.000000</td>\n",
       "      <td>...</td>\n",
       "      <td>5968.000000</td>\n",
       "      <td>5.968000e+03</td>\n",
       "      <td>5968.000000</td>\n",
       "      <td>5.968000e+03</td>\n",
       "      <td>5968.000000</td>\n",
       "      <td>5968.000000</td>\n",
       "      <td>5968.000000</td>\n",
       "      <td>5968.000000</td>\n",
       "      <td>5968.000000</td>\n",
       "      <td>5968.000000</td>\n",
       "    </tr>\n",
       "    <tr>\n",
       "      <th>mean</th>\n",
       "      <td>152.684728</td>\n",
       "      <td>136.377225</td>\n",
       "      <td>0.805236</td>\n",
       "      <td>570.977032</td>\n",
       "      <td>301.579641</td>\n",
       "      <td>570.424631</td>\n",
       "      <td>269.397390</td>\n",
       "      <td>648.486237</td>\n",
       "      <td>36.875105</td>\n",
       "      <td>8.321328</td>\n",
       "      <td>...</td>\n",
       "      <td>2.699426</td>\n",
       "      <td>1.131095e+03</td>\n",
       "      <td>88.548976</td>\n",
       "      <td>1.821106e+01</td>\n",
       "      <td>2.180605</td>\n",
       "      <td>48.323078</td>\n",
       "      <td>27.805850</td>\n",
       "      <td>87.668116</td>\n",
       "      <td>1192.618513</td>\n",
       "      <td>10.258447</td>\n",
       "    </tr>\n",
       "    <tr>\n",
       "      <th>std</th>\n",
       "      <td>16.048149</td>\n",
       "      <td>13.919758</td>\n",
       "      <td>0.065796</td>\n",
       "      <td>44.603387</td>\n",
       "      <td>23.764770</td>\n",
       "      <td>42.663694</td>\n",
       "      <td>23.083611</td>\n",
       "      <td>151.769241</td>\n",
       "      <td>4.564046</td>\n",
       "      <td>13.778885</td>\n",
       "      <td>...</td>\n",
       "      <td>0.024933</td>\n",
       "      <td>9.648935e+01</td>\n",
       "      <td>0.389135</td>\n",
       "      <td>1.198734e+01</td>\n",
       "      <td>0.077165</td>\n",
       "      <td>0.930924</td>\n",
       "      <td>1.542807</td>\n",
       "      <td>1.430514</td>\n",
       "      <td>110.261327</td>\n",
       "      <td>0.886624</td>\n",
       "    </tr>\n",
       "    <tr>\n",
       "      <th>min</th>\n",
       "      <td>74.308880</td>\n",
       "      <td>67.062810</td>\n",
       "      <td>0.247412</td>\n",
       "      <td>481.332200</td>\n",
       "      <td>238.832000</td>\n",
       "      <td>510.000000</td>\n",
       "      <td>218.241900</td>\n",
       "      <td>0.287224</td>\n",
       "      <td>0.000000</td>\n",
       "      <td>0.000000</td>\n",
       "      <td>...</td>\n",
       "      <td>1.557932</td>\n",
       "      <td>2.920000e-24</td>\n",
       "      <td>85.750780</td>\n",
       "      <td>8.270000e-44</td>\n",
       "      <td>0.562290</td>\n",
       "      <td>38.517540</td>\n",
       "      <td>22.170250</td>\n",
       "      <td>78.215330</td>\n",
       "      <td>617.716000</td>\n",
       "      <td>8.920000</td>\n",
       "    </tr>\n",
       "    <tr>\n",
       "      <th>25%</th>\n",
       "      <td>150.227000</td>\n",
       "      <td>134.500125</td>\n",
       "      <td>0.812160</td>\n",
       "      <td>533.705400</td>\n",
       "      <td>281.981575</td>\n",
       "      <td>530.000000</td>\n",
       "      <td>251.153225</td>\n",
       "      <td>657.000750</td>\n",
       "      <td>34.966920</td>\n",
       "      <td>0.000000</td>\n",
       "      <td>...</td>\n",
       "      <td>2.700000</td>\n",
       "      <td>1.159972e+03</td>\n",
       "      <td>88.269143</td>\n",
       "      <td>9.788168e+00</td>\n",
       "      <td>2.112270</td>\n",
       "      <td>47.825635</td>\n",
       "      <td>26.894120</td>\n",
       "      <td>86.934745</td>\n",
       "      <td>1173.334500</td>\n",
       "      <td>9.410000</td>\n",
       "    </tr>\n",
       "    <tr>\n",
       "      <th>50%</th>\n",
       "      <td>155.692000</td>\n",
       "      <td>139.346850</td>\n",
       "      <td>0.821603</td>\n",
       "      <td>559.434800</td>\n",
       "      <td>293.838550</td>\n",
       "      <td>550.000000</td>\n",
       "      <td>265.667550</td>\n",
       "      <td>690.155350</td>\n",
       "      <td>37.225650</td>\n",
       "      <td>0.000000</td>\n",
       "      <td>...</td>\n",
       "      <td>2.700000</td>\n",
       "      <td>1.164592e+03</td>\n",
       "      <td>88.548210</td>\n",
       "      <td>1.743239e+01</td>\n",
       "      <td>2.192728</td>\n",
       "      <td>48.213135</td>\n",
       "      <td>27.760630</td>\n",
       "      <td>87.685415</td>\n",
       "      <td>1214.454500</td>\n",
       "      <td>10.190000</td>\n",
       "    </tr>\n",
       "    <tr>\n",
       "      <th>75%</th>\n",
       "      <td>161.757025</td>\n",
       "      <td>143.924075</td>\n",
       "      <td>0.833718</td>\n",
       "      <td>609.275650</td>\n",
       "      <td>321.322500</td>\n",
       "      <td>600.000000</td>\n",
       "      <td>287.128975</td>\n",
       "      <td>711.669425</td>\n",
       "      <td>40.014853</td>\n",
       "      <td>14.973385</td>\n",
       "      <td>...</td>\n",
       "      <td>2.700000</td>\n",
       "      <td>1.165070e+03</td>\n",
       "      <td>88.808513</td>\n",
       "      <td>2.506831e+01</td>\n",
       "      <td>2.244194</td>\n",
       "      <td>48.771113</td>\n",
       "      <td>28.699717</td>\n",
       "      <td>88.671003</td>\n",
       "      <td>1251.014500</td>\n",
       "      <td>11.080000</td>\n",
       "    </tr>\n",
       "    <tr>\n",
       "      <th>max</th>\n",
       "      <td>190.484000</td>\n",
       "      <td>170.756900</td>\n",
       "      <td>0.912871</td>\n",
       "      <td>732.269400</td>\n",
       "      <td>376.860700</td>\n",
       "      <td>670.000000</td>\n",
       "      <td>364.774900</td>\n",
       "      <td>865.293400</td>\n",
       "      <td>48.994150</td>\n",
       "      <td>50.678790</td>\n",
       "      <td>...</td>\n",
       "      <td>2.800951</td>\n",
       "      <td>1.195267e+03</td>\n",
       "      <td>93.199450</td>\n",
       "      <td>1.015897e+02</td>\n",
       "      <td>2.727024</td>\n",
       "      <td>66.054000</td>\n",
       "      <td>33.682950</td>\n",
       "      <td>90.681490</td>\n",
       "      <td>1500.449000</td>\n",
       "      <td>11.370000</td>\n",
       "    </tr>\n",
       "  </tbody>\n",
       "</table>\n",
       "<p>8 rows × 37 columns</p>\n",
       "</div>"
      ],
      "text/plain": [
       "       Wash Filtrate to Digester - Total Flow  Wash Filtrate Vertical Nozzle  \\\n",
       "count                             5968.000000                    5968.000000   \n",
       "mean                               152.684728                     136.377225   \n",
       "std                                 16.048149                      13.919758   \n",
       "min                                 74.308880                      67.062810   \n",
       "25%                                150.227000                     134.500125   \n",
       "50%                                155.692000                     139.346850   \n",
       "75%                                161.757025                     143.924075   \n",
       "max                                190.484000                     170.756900   \n",
       "\n",
       "       White Liquor Flow to ITC     H-factor  H-factor Co-Current  \\\n",
       "count               5968.000000  5968.000000          5968.000000   \n",
       "mean                   0.805236   570.977032           301.579641   \n",
       "std                    0.065796    44.603387            23.764770   \n",
       "min                    0.247412   481.332200           238.832000   \n",
       "25%                    0.812160   533.705400           281.981575   \n",
       "50%                    0.821603   559.434800           293.838550   \n",
       "75%                    0.833718   609.275650           321.322500   \n",
       "max                    0.912871   732.269400           376.860700   \n",
       "\n",
       "       H-factor Target  H-factor Counter-Current  Volumetric Chip Flow  \\\n",
       "count      5968.000000               5968.000000           5968.000000   \n",
       "mean        570.424631                269.397390            648.486237   \n",
       "std          42.663694                 23.083611            151.769241   \n",
       "min         510.000000                218.241900              0.287224   \n",
       "25%         530.000000                251.153225            657.000750   \n",
       "50%         550.000000                265.667550            690.155350   \n",
       "75%         600.000000                287.128975            711.669425   \n",
       "max         670.000000                364.774900            865.293400   \n",
       "\n",
       "       Chip Mass Flow from Piles  Spruce Saw Mill Chips Share  ...  \\\n",
       "count                5968.000000                  5968.000000  ...   \n",
       "mean                   36.875105                     8.321328  ...   \n",
       "std                     4.564046                    13.778885  ...   \n",
       "min                     0.000000                     0.000000  ...   \n",
       "25%                    34.966920                     0.000000  ...   \n",
       "50%                    37.225650                     0.000000  ...   \n",
       "75%                    40.014853                    14.973385  ...   \n",
       "max                    48.994150                    50.678790  ...   \n",
       "\n",
       "       Hot Spent Digester Liquor Specific Flow to Impregnation Vessel  \\\n",
       "count                                        5968.000000                \n",
       "mean                                            2.699426                \n",
       "std                                             0.024933                \n",
       "min                                             1.557932                \n",
       "25%                                             2.700000                \n",
       "50%                                             2.700000                \n",
       "75%                                             2.700000                \n",
       "max                                             2.800951                \n",
       "\n",
       "       Digester Production  Digester Long Level  Digester Chip Level Control  \\\n",
       "count         5.968000e+03          5968.000000                 5.968000e+03   \n",
       "mean          1.131095e+03            88.548976                 1.821106e+01   \n",
       "std           9.648935e+01             0.389135                 1.198734e+01   \n",
       "min           2.920000e-24            85.750780                 8.270000e-44   \n",
       "25%           1.159972e+03            88.269143                 9.788168e+00   \n",
       "50%           1.164592e+03            88.548210                 1.743239e+01   \n",
       "75%           1.165070e+03            88.808513                 2.506831e+01   \n",
       "max           1.195267e+03            93.199450                 1.015897e+02   \n",
       "\n",
       "       Digester Dilution Factor  Digester Short Level   Blow Kappa  \\\n",
       "count               5968.000000           5968.000000  5968.000000   \n",
       "mean                   2.180605             48.323078    27.805850   \n",
       "std                    0.077165              0.930924     1.542807   \n",
       "min                    0.562290             38.517540    22.170250   \n",
       "25%                    2.112270             47.825635    26.894120   \n",
       "50%                    2.192728             48.213135    27.760630   \n",
       "75%                    2.244194             48.771113    28.699717   \n",
       "max                    2.727024             66.054000    33.682950   \n",
       "\n",
       "       Blow Temperature  Blow Production  \\\n",
       "count       5968.000000      5968.000000   \n",
       "mean          87.668116      1192.618513   \n",
       "std            1.430514       110.261327   \n",
       "min           78.215330       617.716000   \n",
       "25%           86.934745      1173.334500   \n",
       "50%           87.685415      1214.454500   \n",
       "75%           88.671003      1251.014500   \n",
       "max           90.681490      1500.449000   \n",
       "\n",
       "       Weak Black Liquor to Evaporation Plant Residual Alkali  \n",
       "count                                        5968.000000       \n",
       "mean                                           10.258447       \n",
       "std                                             0.886624       \n",
       "min                                             8.920000       \n",
       "25%                                             9.410000       \n",
       "50%                                            10.190000       \n",
       "75%                                            11.080000       \n",
       "max                                            11.370000       \n",
       "\n",
       "[8 rows x 37 columns]"
      ]
     },
     "execution_count": 84,
     "metadata": {},
     "output_type": "execute_result"
    }
   ],
   "source": [
    "import pandas as pd\n",
    "\n",
    "filepath = \"../data/digester_data.csv\"\n",
    "dataset = pd.read_csv(filepath, index_col=0, parse_dates=True)\n",
    "dataset.describe()\n"
   ]
  },
  {
   "cell_type": "markdown",
   "metadata": {},
   "source": [
    "### Select the data"
   ]
  },
  {
   "cell_type": "code",
   "execution_count": 114,
   "metadata": {},
   "outputs": [
    {
     "name": "stdout",
     "output_type": "stream",
     "text": [
      "(5968,)\n",
      "(5968, 37)\n"
     ]
    }
   ],
   "source": [
    "import numpy as np\n",
    "\n",
    "y_data = dataset['Blow Kappa'].to_numpy()\n",
    "X_data = dataset.to_numpy()\n",
    "print(y_data.shape)\n",
    "print(X_data.shape)\n",
    "\n",
    "#BaseLine\n",
    "y_data_B = np.full(\n",
    "    shape=len(y_data),\n",
    "    fill_value=np.mean(y_data),\n",
    "    dtype=np.float64\n",
    ")\n"
   ]
  },
  {
   "cell_type": "markdown",
   "metadata": {},
   "source": [
    "### Split the data"
   ]
  },
  {
   "cell_type": "code",
   "execution_count": 115,
   "metadata": {},
   "outputs": [],
   "source": [
    "y_train = y_data[:int(len(y_data)*0.8)]\n",
    "y_test = y_data[int(len(y_data)*0.8):]\n",
    "\n",
    "y_train_B = y_data_B[:int(len(y_data_B)*0.8)]\n",
    "y_test_B = y_data_B[int(len(y_data_B)*0.8):]\n",
    "\n",
    "X_train = X_data[:int(len(X_data)*0.8)]\n",
    "X_test = X_data[int(len(X_data)*0.8):]"
   ]
  },
  {
   "cell_type": "markdown",
   "metadata": {},
   "source": [
    "### Creation of the Decision Tree Regressor and train the model"
   ]
  },
  {
   "cell_type": "code",
   "execution_count": 94,
   "metadata": {},
   "outputs": [],
   "source": [
    "from sklearn.model_selection import GridSearchCV\n",
    "from sklearn.tree import DecisionTreeRegressor\n",
    "\n",
    "dtr = DecisionTreeRegressor(max_depth=5,\n",
    "                            splitter='random',\n",
    "                            max_features='sqrt',\n",
    "                            min_impurity_decrease=0.0,\n",
    "                            min_samples_leaf=1,\n",
    "                            min_samples_split=5,\n",
    "                            random_state=0,\n",
    "                            criterion='absolute_error')\n"
   ]
  },
  {
   "cell_type": "code",
   "execution_count": 92,
   "metadata": {},
   "outputs": [
    {
     "name": "stdout",
     "output_type": "stream",
     "text": [
      "{'max_depth': 5, 'max_features': 'sqrt', 'min_impurity_decrease': 0.0, 'min_samples_leaf': 1, 'min_samples_split': 5, 'random_state': 0, 'splitter': 'random'}\n"
     ]
    }
   ],
   "source": [
    "param = {'max_depth': [3, 5, 10],\n",
    "         'splitter': ['best', 'random'],\n",
    "         'min_samples_split': [2, 5, 10],\n",
    "         'min_samples_leaf': [1, 2, 3, 4, 5],\n",
    "         'max_features': ['auto', 'sqrt', 'log2', None],\n",
    "         'random_state': [0, 1, 2, 3, 4, 5],\n",
    "         'min_impurity_decrease': [0.0, 0.1, 0.2, 0.3]}\n",
    "\n",
    "grid = GridSearchCV(dtr, param, cv=2)\n",
    "grid.fit(X_train, y_train)\n",
    "print(grid.best_params_)"
   ]
  },
  {
   "cell_type": "code",
   "execution_count": 122,
   "metadata": {},
   "outputs": [
    {
     "data": {
      "text/plain": [
       "DecisionTreeRegressor(criterion='absolute_error', max_depth=5,\n",
       "                      max_features='sqrt', min_samples_split=5, random_state=0,\n",
       "                      splitter='random')"
      ]
     },
     "execution_count": 122,
     "metadata": {},
     "output_type": "execute_result"
    }
   ],
   "source": [
    "dtr.fit(X_train, y_train)"
   ]
  },
  {
   "cell_type": "markdown",
   "metadata": {},
   "source": [
    "### Display the prediction"
   ]
  },
  {
   "cell_type": "code",
   "execution_count": 123,
   "metadata": {},
   "outputs": [
    {
     "name": "stdout",
     "output_type": "stream",
     "text": [
      "Result of the prediction :  [27.33081 28.00311 28.43725 ... 26.84507 26.84507 26.84507]\n"
     ]
    }
   ],
   "source": [
    "import numpy as np\n",
    "\n",
    "y_prediction = dtr.predict(X_test)\n",
    "print(\"Result of the prediction : \", y_prediction)\n"
   ]
  },
  {
   "cell_type": "markdown",
   "metadata": {},
   "source": [
    "### Control the Mean Absolute Error\n",
    "Check the performence with the baseline"
   ]
  },
  {
   "cell_type": "code",
   "execution_count": 124,
   "metadata": {},
   "outputs": [
    {
     "name": "stdout",
     "output_type": "stream",
     "text": [
      "MAE: 1.1355963609715243\n",
      "MAE Baseline: 1.1396043875364883\n"
     ]
    }
   ],
   "source": [
    "from sklearn.metrics import mean_absolute_error\n",
    "\n",
    "mae = mean_absolute_error(y_test, y_prediction)\n",
    "mae_B = mean_absolute_error(y_train, y_train_B)\n",
    "\n",
    "print(\"MAE:\", mae)\n",
    "print(\"MAE Baseline:\", mae_B)\n"
   ]
  },
  {
   "cell_type": "markdown",
   "metadata": {},
   "source": [
    "### Display the Descision Tree"
   ]
  },
  {
   "cell_type": "code",
   "execution_count": 125,
   "metadata": {},
   "outputs": [
    {
     "data": {
      "image/svg+xml": "<?xml version=\"1.0\" encoding=\"UTF-8\" standalone=\"no\"?>\n<!DOCTYPE svg PUBLIC \"-//W3C//DTD SVG 1.1//EN\"\n \"http://www.w3.org/Graphics/SVG/1.1/DTD/svg11.dtd\">\n<!-- Generated by graphviz version 2.46.0 (20210118.1747)\n -->\n<!-- Title: Tree Pages: 1 -->\n<svg width=\"4588pt\" height=\"581pt\"\n viewBox=\"0.00 0.00 4588.00 581.00\" xmlns=\"http://www.w3.org/2000/svg\" xmlns:xlink=\"http://www.w3.org/1999/xlink\">\n<g id=\"graph0\" class=\"graph\" transform=\"scale(1 1) rotate(0) translate(4 577)\">\n<title>Tree</title>\n<polygon fill=\"white\" stroke=\"transparent\" points=\"-4,4 -4,-577 4584,-577 4584,4 -4,4\"/>\n<!-- 0 -->\n<g id=\"node1\" class=\"node\">\n<title>0</title>\n<path fill=\"#f2be99\" stroke=\"black\" d=\"M1893,-573C1893,-573 1620,-573 1620,-573 1614,-573 1608,-567 1608,-561 1608,-561 1608,-517 1608,-517 1608,-511 1614,-505 1620,-505 1620,-505 1893,-505 1893,-505 1899,-505 1905,-511 1905,-517 1905,-517 1905,-561 1905,-561 1905,-567 1899,-573 1893,-573\"/>\n<text text-anchor=\"start\" x=\"1616\" y=\"-557.8\" font-family=\"Helvetica,sans-Serif\" font-size=\"14.00\">Digester Chip Level Middle Sensor ≤ 16.872</text>\n<text text-anchor=\"start\" x=\"1684\" y=\"-542.8\" font-family=\"Helvetica,sans-Serif\" font-size=\"14.00\">absolute_error = 1.138</text>\n<text text-anchor=\"start\" x=\"1705\" y=\"-527.8\" font-family=\"Helvetica,sans-Serif\" font-size=\"14.00\">samples = 4774</text>\n<text text-anchor=\"start\" x=\"1709.5\" y=\"-512.8\" font-family=\"Helvetica,sans-Serif\" font-size=\"14.00\">value = 27.737</text>\n</g>\n<!-- 1 -->\n<g id=\"node2\" class=\"node\">\n<title>1</title>\n<path fill=\"#f0b68c\" stroke=\"black\" d=\"M1418,-469C1418,-469 1231,-469 1231,-469 1225,-469 1219,-463 1219,-457 1219,-457 1219,-413 1219,-413 1219,-407 1225,-401 1231,-401 1231,-401 1418,-401 1418,-401 1424,-401 1430,-407 1430,-413 1430,-413 1430,-457 1430,-457 1430,-463 1424,-469 1418,-469\"/>\n<text text-anchor=\"start\" x=\"1227\" y=\"-453.8\" font-family=\"Helvetica,sans-Serif\" font-size=\"14.00\">Volumetric Chip Flow ≤ 99.057</text>\n<text text-anchor=\"start\" x=\"1252\" y=\"-438.8\" font-family=\"Helvetica,sans-Serif\" font-size=\"14.00\">absolute_error = 1.212</text>\n<text text-anchor=\"start\" x=\"1277\" y=\"-423.8\" font-family=\"Helvetica,sans-Serif\" font-size=\"14.00\">samples = 439</text>\n<text text-anchor=\"start\" x=\"1277.5\" y=\"-408.8\" font-family=\"Helvetica,sans-Serif\" font-size=\"14.00\">value = 28.414</text>\n</g>\n<!-- 0&#45;&gt;1 -->\n<g id=\"edge1\" class=\"edge\">\n<title>0&#45;&gt;1</title>\n<path fill=\"none\" stroke=\"black\" d=\"M1616.54,-504.95C1559.58,-491.51 1494.54,-476.15 1440.32,-463.35\"/>\n<polygon fill=\"black\" stroke=\"black\" points=\"1440.86,-459.88 1430.32,-460.99 1439.25,-466.69 1440.86,-459.88\"/>\n<text text-anchor=\"middle\" x=\"1443.47\" y=\"-478.55\" font-family=\"Helvetica,sans-Serif\" font-size=\"14.00\">True</text>\n</g>\n<!-- 24 -->\n<g id=\"node25\" class=\"node\">\n<title>24</title>\n<path fill=\"#f2be99\" stroke=\"black\" d=\"M2536.5,-469C2536.5,-469 2380.5,-469 2380.5,-469 2374.5,-469 2368.5,-463 2368.5,-457 2368.5,-457 2368.5,-413 2368.5,-413 2368.5,-407 2374.5,-401 2380.5,-401 2380.5,-401 2536.5,-401 2536.5,-401 2542.5,-401 2548.5,-407 2548.5,-413 2548.5,-413 2548.5,-457 2548.5,-457 2548.5,-463 2542.5,-469 2536.5,-469\"/>\n<text text-anchor=\"start\" x=\"2376.5\" y=\"-453.8\" font-family=\"Helvetica,sans-Serif\" font-size=\"14.00\">H&#45;factor Target ≤ 633.841</text>\n<text text-anchor=\"start\" x=\"2386\" y=\"-438.8\" font-family=\"Helvetica,sans-Serif\" font-size=\"14.00\">absolute_error = 1.119</text>\n<text text-anchor=\"start\" x=\"2407\" y=\"-423.8\" font-family=\"Helvetica,sans-Serif\" font-size=\"14.00\">samples = 4335</text>\n<text text-anchor=\"start\" x=\"2419.5\" y=\"-408.8\" font-family=\"Helvetica,sans-Serif\" font-size=\"14.00\">value = 27.7</text>\n</g>\n<!-- 0&#45;&gt;24 -->\n<g id=\"edge24\" class=\"edge\">\n<title>0&#45;&gt;24</title>\n<path fill=\"none\" stroke=\"black\" d=\"M1905.38,-516.37C2041.76,-496.55 2239.91,-467.76 2358.32,-450.56\"/>\n<polygon fill=\"black\" stroke=\"black\" points=\"2359.08,-453.98 2368.47,-449.08 2358.07,-447.06 2359.08,-453.98\"/>\n<text text-anchor=\"middle\" x=\"2353.52\" y=\"-465.42\" font-family=\"Helvetica,sans-Serif\" font-size=\"14.00\">False</text>\n</g>\n<!-- 2 -->\n<g id=\"node3\" class=\"node\">\n<title>2</title>\n<path fill=\"#edaa79\" stroke=\"black\" d=\"M977.5,-365C977.5,-365 741.5,-365 741.5,-365 735.5,-365 729.5,-359 729.5,-353 729.5,-353 729.5,-309 729.5,-309 729.5,-303 735.5,-297 741.5,-297 741.5,-297 977.5,-297 977.5,-297 983.5,-297 989.5,-303 989.5,-309 989.5,-309 989.5,-353 989.5,-353 989.5,-359 983.5,-365 977.5,-365\"/>\n<text text-anchor=\"start\" x=\"737.5\" y=\"-349.8\" font-family=\"Helvetica,sans-Serif\" font-size=\"14.00\">Digester White Liquor Dosage ≤ 18.23</text>\n<text text-anchor=\"start\" x=\"787\" y=\"-334.8\" font-family=\"Helvetica,sans-Serif\" font-size=\"14.00\">absolute_error = 0.832</text>\n<text text-anchor=\"start\" x=\"816\" y=\"-319.8\" font-family=\"Helvetica,sans-Serif\" font-size=\"14.00\">samples = 30</text>\n<text text-anchor=\"start\" x=\"812.5\" y=\"-304.8\" font-family=\"Helvetica,sans-Serif\" font-size=\"14.00\">value = 29.368</text>\n</g>\n<!-- 1&#45;&gt;2 -->\n<g id=\"edge2\" class=\"edge\">\n<title>1&#45;&gt;2</title>\n<path fill=\"none\" stroke=\"black\" d=\"M1218.98,-410.85C1153.98,-396.6 1069.87,-378.15 999.36,-362.68\"/>\n<polygon fill=\"black\" stroke=\"black\" points=\"1000.02,-359.24 989.5,-360.52 998.52,-366.08 1000.02,-359.24\"/>\n</g>\n<!-- 11 -->\n<g id=\"node12\" class=\"node\">\n<title>11</title>\n<path fill=\"#f0b78d\" stroke=\"black\" d=\"M1442.5,-365C1442.5,-365 1206.5,-365 1206.5,-365 1200.5,-365 1194.5,-359 1194.5,-353 1194.5,-353 1194.5,-309 1194.5,-309 1194.5,-303 1200.5,-297 1206.5,-297 1206.5,-297 1442.5,-297 1442.5,-297 1448.5,-297 1454.5,-303 1454.5,-309 1454.5,-309 1454.5,-353 1454.5,-353 1454.5,-359 1448.5,-365 1442.5,-365\"/>\n<text text-anchor=\"start\" x=\"1202.5\" y=\"-349.8\" font-family=\"Helvetica,sans-Serif\" font-size=\"14.00\">Pine Roundwood Chip Share ≤ 70.775</text>\n<text text-anchor=\"start\" x=\"1256\" y=\"-334.8\" font-family=\"Helvetica,sans-Serif\" font-size=\"14.00\">absolute_error = 1.21</text>\n<text text-anchor=\"start\" x=\"1277\" y=\"-319.8\" font-family=\"Helvetica,sans-Serif\" font-size=\"14.00\">samples = 409</text>\n<text text-anchor=\"start\" x=\"1277.5\" y=\"-304.8\" font-family=\"Helvetica,sans-Serif\" font-size=\"14.00\">value = 28.322</text>\n</g>\n<!-- 1&#45;&gt;11 -->\n<g id=\"edge11\" class=\"edge\">\n<title>1&#45;&gt;11</title>\n<path fill=\"none\" stroke=\"black\" d=\"M1324.5,-400.88C1324.5,-392.78 1324.5,-383.98 1324.5,-375.47\"/>\n<polygon fill=\"black\" stroke=\"black\" points=\"1328,-375.3 1324.5,-365.3 1321,-375.3 1328,-375.3\"/>\n</g>\n<!-- 3 -->\n<g id=\"node4\" class=\"node\">\n<title>3</title>\n<path fill=\"#edaa79\" stroke=\"black\" d=\"M681,-261C681,-261 512,-261 512,-261 506,-261 500,-255 500,-249 500,-249 500,-205 500,-205 500,-199 506,-193 512,-193 512,-193 681,-193 681,-193 687,-193 693,-199 693,-205 693,-205 693,-249 693,-249 693,-255 687,-261 681,-261\"/>\n<text text-anchor=\"start\" x=\"508\" y=\"-245.8\" font-family=\"Helvetica,sans-Serif\" font-size=\"14.00\">Blow Temperature ≤ 89.104</text>\n<text text-anchor=\"start\" x=\"524\" y=\"-230.8\" font-family=\"Helvetica,sans-Serif\" font-size=\"14.00\">absolute_error = 0.783</text>\n<text text-anchor=\"start\" x=\"553\" y=\"-215.8\" font-family=\"Helvetica,sans-Serif\" font-size=\"14.00\">samples = 29</text>\n<text text-anchor=\"start\" x=\"549.5\" y=\"-200.8\" font-family=\"Helvetica,sans-Serif\" font-size=\"14.00\">value = 29.377</text>\n</g>\n<!-- 2&#45;&gt;3 -->\n<g id=\"edge3\" class=\"edge\">\n<title>2&#45;&gt;3</title>\n<path fill=\"none\" stroke=\"black\" d=\"M774.11,-296.88C747.68,-286.63 718.4,-275.28 691.37,-264.79\"/>\n<polygon fill=\"black\" stroke=\"black\" points=\"692.5,-261.48 681.91,-261.12 689.97,-268 692.5,-261.48\"/>\n</g>\n<!-- 10 -->\n<g id=\"node11\" class=\"node\">\n<title>10</title>\n<path fill=\"#f3c5a4\" stroke=\"black\" d=\"M920,-253.5C920,-253.5 799,-253.5 799,-253.5 793,-253.5 787,-247.5 787,-241.5 787,-241.5 787,-212.5 787,-212.5 787,-206.5 793,-200.5 799,-200.5 799,-200.5 920,-200.5 920,-200.5 926,-200.5 932,-206.5 932,-212.5 932,-212.5 932,-241.5 932,-241.5 932,-247.5 926,-253.5 920,-253.5\"/>\n<text text-anchor=\"start\" x=\"795\" y=\"-238.3\" font-family=\"Helvetica,sans-Serif\" font-size=\"14.00\">absolute_error = 0.0</text>\n<text text-anchor=\"start\" x=\"820\" y=\"-223.3\" font-family=\"Helvetica,sans-Serif\" font-size=\"14.00\">samples = 1</text>\n<text text-anchor=\"start\" x=\"812.5\" y=\"-208.3\" font-family=\"Helvetica,sans-Serif\" font-size=\"14.00\">value = 27.127</text>\n</g>\n<!-- 2&#45;&gt;10 -->\n<g id=\"edge10\" class=\"edge\">\n<title>2&#45;&gt;10</title>\n<path fill=\"none\" stroke=\"black\" d=\"M859.5,-296.88C859.5,-286.33 859.5,-274.6 859.5,-263.85\"/>\n<polygon fill=\"black\" stroke=\"black\" points=\"863,-263.52 859.5,-253.52 856,-263.52 863,-263.52\"/>\n</g>\n<!-- 4 -->\n<g id=\"node5\" class=\"node\">\n<title>4</title>\n<path fill=\"#efb387\" stroke=\"black\" d=\"M396,-157C396,-157 123,-157 123,-157 117,-157 111,-151 111,-145 111,-145 111,-101 111,-101 111,-95 117,-89 123,-89 123,-89 396,-89 396,-89 402,-89 408,-95 408,-101 408,-101 408,-145 408,-145 408,-151 402,-157 396,-157\"/>\n<text text-anchor=\"start\" x=\"119\" y=\"-141.8\" font-family=\"Helvetica,sans-Serif\" font-size=\"14.00\">Digester Chip Level Middle Sensor ≤ 16.416</text>\n<text text-anchor=\"start\" x=\"187\" y=\"-126.8\" font-family=\"Helvetica,sans-Serif\" font-size=\"14.00\">absolute_error = 1.168</text>\n<text text-anchor=\"start\" x=\"220\" y=\"-111.8\" font-family=\"Helvetica,sans-Serif\" font-size=\"14.00\">samples = 9</text>\n<text text-anchor=\"start\" x=\"212.5\" y=\"-96.8\" font-family=\"Helvetica,sans-Serif\" font-size=\"14.00\">value = 28.638</text>\n</g>\n<!-- 3&#45;&gt;4 -->\n<g id=\"edge4\" class=\"edge\">\n<title>3&#45;&gt;4</title>\n<path fill=\"none\" stroke=\"black\" d=\"M499.93,-196.77C462.02,-185.3 418.12,-172.01 378.3,-159.96\"/>\n<polygon fill=\"black\" stroke=\"black\" points=\"379.12,-156.55 368.53,-157 377.09,-163.25 379.12,-156.55\"/>\n</g>\n<!-- 7 -->\n<g id=\"node8\" class=\"node\">\n<title>7</title>\n<path fill=\"#eda774\" stroke=\"black\" d=\"M734,-157C734,-157 459,-157 459,-157 453,-157 447,-151 447,-145 447,-145 447,-101 447,-101 447,-95 453,-89 459,-89 459,-89 734,-89 734,-89 740,-89 746,-95 746,-101 746,-101 746,-145 746,-145 746,-151 740,-157 734,-157\"/>\n<text text-anchor=\"start\" x=\"455\" y=\"-141.8\" font-family=\"Helvetica,sans-Serif\" font-size=\"14.00\">White Liquor Flow to Digester Plant ≤ 42.123</text>\n<text text-anchor=\"start\" x=\"524\" y=\"-126.8\" font-family=\"Helvetica,sans-Serif\" font-size=\"14.00\">absolute_error = 0.507</text>\n<text text-anchor=\"start\" x=\"553\" y=\"-111.8\" font-family=\"Helvetica,sans-Serif\" font-size=\"14.00\">samples = 20</text>\n<text text-anchor=\"start\" x=\"549.5\" y=\"-96.8\" font-family=\"Helvetica,sans-Serif\" font-size=\"14.00\">value = 29.622</text>\n</g>\n<!-- 3&#45;&gt;7 -->\n<g id=\"edge7\" class=\"edge\">\n<title>3&#45;&gt;7</title>\n<path fill=\"none\" stroke=\"black\" d=\"M596.5,-192.88C596.5,-184.78 596.5,-175.98 596.5,-167.47\"/>\n<polygon fill=\"black\" stroke=\"black\" points=\"600,-167.3 596.5,-157.3 593,-167.3 600,-167.3\"/>\n</g>\n<!-- 5 -->\n<g id=\"node6\" class=\"node\">\n<title>5</title>\n<path fill=\"#edaa79\" stroke=\"black\" d=\"M149,-53C149,-53 12,-53 12,-53 6,-53 0,-47 0,-41 0,-41 0,-12 0,-12 0,-6 6,0 12,0 12,0 149,0 149,0 155,0 161,-6 161,-12 161,-12 161,-41 161,-41 161,-47 155,-53 149,-53\"/>\n<text text-anchor=\"start\" x=\"8\" y=\"-37.8\" font-family=\"Helvetica,sans-Serif\" font-size=\"14.00\">absolute_error = 0.182</text>\n<text text-anchor=\"start\" x=\"41\" y=\"-22.8\" font-family=\"Helvetica,sans-Serif\" font-size=\"14.00\">samples = 4</text>\n<text text-anchor=\"start\" x=\"33.5\" y=\"-7.8\" font-family=\"Helvetica,sans-Serif\" font-size=\"14.00\">value = 29.359</text>\n</g>\n<!-- 4&#45;&gt;5 -->\n<g id=\"edge5\" class=\"edge\">\n<title>4&#45;&gt;5</title>\n<path fill=\"none\" stroke=\"black\" d=\"M196.89,-88.95C177.75,-78.84 156.79,-67.78 138,-57.86\"/>\n<polygon fill=\"black\" stroke=\"black\" points=\"139.44,-54.66 128.97,-53.09 136.18,-60.85 139.44,-54.66\"/>\n</g>\n<!-- 6 -->\n<g id=\"node7\" class=\"node\">\n<title>6</title>\n<path fill=\"#f3c3a0\" stroke=\"black\" d=\"M328,-53C328,-53 191,-53 191,-53 185,-53 179,-47 179,-41 179,-41 179,-12 179,-12 179,-6 185,0 191,0 191,0 328,0 328,0 334,0 340,-6 340,-12 340,-12 340,-41 340,-41 340,-47 334,-53 328,-53\"/>\n<text text-anchor=\"start\" x=\"187\" y=\"-37.8\" font-family=\"Helvetica,sans-Serif\" font-size=\"14.00\">absolute_error = 0.847</text>\n<text text-anchor=\"start\" x=\"220\" y=\"-22.8\" font-family=\"Helvetica,sans-Serif\" font-size=\"14.00\">samples = 5</text>\n<text text-anchor=\"start\" x=\"212.5\" y=\"-7.8\" font-family=\"Helvetica,sans-Serif\" font-size=\"14.00\">value = 27.334</text>\n</g>\n<!-- 4&#45;&gt;6 -->\n<g id=\"edge6\" class=\"edge\">\n<title>4&#45;&gt;6</title>\n<path fill=\"none\" stroke=\"black\" d=\"M259.5,-88.95C259.5,-80.72 259.5,-71.85 259.5,-63.48\"/>\n<polygon fill=\"black\" stroke=\"black\" points=\"263,-63.24 259.5,-53.24 256,-63.24 263,-63.24\"/>\n</g>\n<!-- 8 -->\n<g id=\"node9\" class=\"node\">\n<title>8</title>\n<path fill=\"#eeac7d\" stroke=\"black\" d=\"M507,-53C507,-53 370,-53 370,-53 364,-53 358,-47 358,-41 358,-41 358,-12 358,-12 358,-6 364,0 370,0 370,0 507,0 507,0 513,0 519,-6 519,-12 519,-12 519,-41 519,-41 519,-47 513,-53 507,-53\"/>\n<text text-anchor=\"start\" x=\"366\" y=\"-37.8\" font-family=\"Helvetica,sans-Serif\" font-size=\"14.00\">absolute_error = 0.175</text>\n<text text-anchor=\"start\" x=\"399\" y=\"-22.8\" font-family=\"Helvetica,sans-Serif\" font-size=\"14.00\">samples = 5</text>\n<text text-anchor=\"start\" x=\"391.5\" y=\"-7.8\" font-family=\"Helvetica,sans-Serif\" font-size=\"14.00\">value = 29.194</text>\n</g>\n<!-- 7&#45;&gt;8 -->\n<g id=\"edge8\" class=\"edge\">\n<title>7&#45;&gt;8</title>\n<path fill=\"none\" stroke=\"black\" d=\"M541.24,-88.95C524.65,-79.02 506.51,-68.18 490.16,-58.4\"/>\n<polygon fill=\"black\" stroke=\"black\" points=\"491.66,-55.22 481.28,-53.09 488.07,-61.22 491.66,-55.22\"/>\n</g>\n<!-- 9 -->\n<g id=\"node10\" class=\"node\">\n<title>9</title>\n<path fill=\"#eda572\" stroke=\"black\" d=\"M686,-53C686,-53 549,-53 549,-53 543,-53 537,-47 537,-41 537,-41 537,-12 537,-12 537,-6 543,0 549,0 549,0 686,0 686,0 692,0 698,-6 698,-12 698,-12 698,-41 698,-41 698,-47 692,-53 686,-53\"/>\n<text text-anchor=\"start\" x=\"545\" y=\"-37.8\" font-family=\"Helvetica,sans-Serif\" font-size=\"14.00\">absolute_error = 0.543</text>\n<text text-anchor=\"start\" x=\"574\" y=\"-22.8\" font-family=\"Helvetica,sans-Serif\" font-size=\"14.00\">samples = 15</text>\n<text text-anchor=\"start\" x=\"570.5\" y=\"-7.8\" font-family=\"Helvetica,sans-Serif\" font-size=\"14.00\">value = 29.736</text>\n</g>\n<!-- 7&#45;&gt;9 -->\n<g id=\"edge9\" class=\"edge\">\n<title>7&#45;&gt;9</title>\n<path fill=\"none\" stroke=\"black\" d=\"M603.84,-88.95C605.69,-80.62 607.69,-71.65 609.57,-63.2\"/>\n<polygon fill=\"black\" stroke=\"black\" points=\"613.03,-63.76 611.78,-53.24 606.19,-62.24 613.03,-63.76\"/>\n</g>\n<!-- 12 -->\n<g id=\"node13\" class=\"node\">\n<title>12</title>\n<path fill=\"#efb286\" stroke=\"black\" d=\"M1278,-261C1278,-261 1069,-261 1069,-261 1063,-261 1057,-255 1057,-249 1057,-249 1057,-205 1057,-205 1057,-199 1063,-193 1069,-193 1069,-193 1278,-193 1278,-193 1284,-193 1290,-199 1290,-205 1290,-205 1290,-249 1290,-249 1290,-255 1284,-261 1278,-261\"/>\n<text text-anchor=\"start\" x=\"1065\" y=\"-245.8\" font-family=\"Helvetica,sans-Serif\" font-size=\"14.00\">Digester Pressure Control ≤ 0.316</text>\n<text text-anchor=\"start\" x=\"1101\" y=\"-230.8\" font-family=\"Helvetica,sans-Serif\" font-size=\"14.00\">absolute_error = 1.257</text>\n<text text-anchor=\"start\" x=\"1126\" y=\"-215.8\" font-family=\"Helvetica,sans-Serif\" font-size=\"14.00\">samples = 255</text>\n<text text-anchor=\"start\" x=\"1126.5\" y=\"-200.8\" font-family=\"Helvetica,sans-Serif\" font-size=\"14.00\">value = 28.707</text>\n</g>\n<!-- 11&#45;&gt;12 -->\n<g id=\"edge12\" class=\"edge\">\n<title>11&#45;&gt;12</title>\n<path fill=\"none\" stroke=\"black\" d=\"M1275.47,-296.88C1261.29,-287.3 1245.68,-276.76 1231.03,-266.86\"/>\n<polygon fill=\"black\" stroke=\"black\" points=\"1232.78,-263.82 1222.54,-261.12 1228.87,-269.62 1232.78,-263.82\"/>\n</g>\n<!-- 19 -->\n<g id=\"node20\" class=\"node\">\n<title>19</title>\n<path fill=\"#f2be99\" stroke=\"black\" d=\"M1489,-261C1489,-261 1320,-261 1320,-261 1314,-261 1308,-255 1308,-249 1308,-249 1308,-205 1308,-205 1308,-199 1314,-193 1320,-193 1320,-193 1489,-193 1489,-193 1495,-193 1501,-199 1501,-205 1501,-205 1501,-249 1501,-249 1501,-255 1495,-261 1489,-261\"/>\n<text text-anchor=\"start\" x=\"1316\" y=\"-245.8\" font-family=\"Helvetica,sans-Serif\" font-size=\"14.00\">Blow Temperature ≤ 81.395</text>\n<text text-anchor=\"start\" x=\"1332\" y=\"-230.8\" font-family=\"Helvetica,sans-Serif\" font-size=\"14.00\">absolute_error = 0.993</text>\n<text text-anchor=\"start\" x=\"1357\" y=\"-215.8\" font-family=\"Helvetica,sans-Serif\" font-size=\"14.00\">samples = 154</text>\n<text text-anchor=\"start\" x=\"1357.5\" y=\"-200.8\" font-family=\"Helvetica,sans-Serif\" font-size=\"14.00\">value = 27.721</text>\n</g>\n<!-- 11&#45;&gt;19 -->\n<g id=\"edge19\" class=\"edge\">\n<title>11&#45;&gt;19</title>\n<path fill=\"none\" stroke=\"black\" d=\"M1350.47,-296.88C1357.39,-288.07 1364.95,-278.43 1372.16,-269.24\"/>\n<polygon fill=\"black\" stroke=\"black\" points=\"1374.97,-271.33 1378.38,-261.3 1369.46,-267.01 1374.97,-271.33\"/>\n</g>\n<!-- 13 -->\n<g id=\"node14\" class=\"node\">\n<title>13</title>\n<path fill=\"#eb9f68\" stroke=\"black\" d=\"M1062,-157C1062,-157 817,-157 817,-157 811,-157 805,-151 805,-145 805,-145 805,-101 805,-101 805,-95 811,-89 817,-89 817,-89 1062,-89 1062,-89 1068,-89 1074,-95 1074,-101 1074,-101 1074,-145 1074,-145 1074,-151 1068,-157 1062,-157\"/>\n<text text-anchor=\"start\" x=\"813\" y=\"-141.8\" font-family=\"Helvetica,sans-Serif\" font-size=\"14.00\">Digester White Liquor Dosage ≤ 17.031</text>\n<text text-anchor=\"start\" x=\"871\" y=\"-126.8\" font-family=\"Helvetica,sans-Serif\" font-size=\"14.00\">absolute_error = 1.42</text>\n<text text-anchor=\"start\" x=\"896\" y=\"-111.8\" font-family=\"Helvetica,sans-Serif\" font-size=\"14.00\">samples = 62</text>\n<text text-anchor=\"start\" x=\"892.5\" y=\"-96.8\" font-family=\"Helvetica,sans-Serif\" font-size=\"14.00\">value = 30.274</text>\n</g>\n<!-- 12&#45;&gt;13 -->\n<g id=\"edge13\" class=\"edge\">\n<title>12&#45;&gt;13</title>\n<path fill=\"none\" stroke=\"black\" d=\"M1097.53,-192.88C1074.32,-182.77 1048.64,-171.58 1024.86,-161.21\"/>\n<polygon fill=\"black\" stroke=\"black\" points=\"1026.06,-157.91 1015.49,-157.12 1023.26,-164.33 1026.06,-157.91\"/>\n</g>\n<!-- 16 -->\n<g id=\"node17\" class=\"node\">\n<title>16</title>\n<path fill=\"#f0b68c\" stroke=\"black\" d=\"M1276.5,-157C1276.5,-157 1104.5,-157 1104.5,-157 1098.5,-157 1092.5,-151 1092.5,-145 1092.5,-145 1092.5,-101 1092.5,-101 1092.5,-95 1098.5,-89 1104.5,-89 1104.5,-89 1276.5,-89 1276.5,-89 1282.5,-89 1288.5,-95 1288.5,-101 1288.5,-101 1288.5,-145 1288.5,-145 1288.5,-151 1282.5,-157 1276.5,-157\"/>\n<text text-anchor=\"start\" x=\"1100.5\" y=\"-141.8\" font-family=\"Helvetica,sans-Serif\" font-size=\"14.00\">Blow Production ≤ 1327.613</text>\n<text text-anchor=\"start\" x=\"1118\" y=\"-126.8\" font-family=\"Helvetica,sans-Serif\" font-size=\"14.00\">absolute_error = 1.021</text>\n<text text-anchor=\"start\" x=\"1143\" y=\"-111.8\" font-family=\"Helvetica,sans-Serif\" font-size=\"14.00\">samples = 193</text>\n<text text-anchor=\"start\" x=\"1143.5\" y=\"-96.8\" font-family=\"Helvetica,sans-Serif\" font-size=\"14.00\">value = 28.408</text>\n</g>\n<!-- 12&#45;&gt;16 -->\n<g id=\"edge16\" class=\"edge\">\n<title>12&#45;&gt;16</title>\n<path fill=\"none\" stroke=\"black\" d=\"M1179.02,-192.88C1180.39,-184.69 1181.87,-175.79 1183.3,-167.19\"/>\n<polygon fill=\"black\" stroke=\"black\" points=\"1186.76,-167.74 1184.95,-157.3 1179.85,-166.59 1186.76,-167.74\"/>\n</g>\n<!-- 14 -->\n<g id=\"node15\" class=\"node\">\n<title>14</title>\n<path fill=\"#f3c5a4\" stroke=\"black\" d=\"M865,-53C865,-53 728,-53 728,-53 722,-53 716,-47 716,-41 716,-41 716,-12 716,-12 716,-6 722,0 728,0 728,0 865,0 865,0 871,0 877,-6 877,-12 877,-12 877,-41 877,-41 877,-47 871,-53 865,-53\"/>\n<text text-anchor=\"start\" x=\"724\" y=\"-37.8\" font-family=\"Helvetica,sans-Serif\" font-size=\"14.00\">absolute_error = 0.649</text>\n<text text-anchor=\"start\" x=\"753\" y=\"-22.8\" font-family=\"Helvetica,sans-Serif\" font-size=\"14.00\">samples = 15</text>\n<text text-anchor=\"start\" x=\"749.5\" y=\"-7.8\" font-family=\"Helvetica,sans-Serif\" font-size=\"14.00\">value = 27.147</text>\n</g>\n<!-- 13&#45;&gt;14 -->\n<g id=\"edge14\" class=\"edge\">\n<title>13&#45;&gt;14</title>\n<path fill=\"none\" stroke=\"black\" d=\"M889.49,-88.95C874.67,-79.16 858.51,-68.48 843.87,-58.8\"/>\n<polygon fill=\"black\" stroke=\"black\" points=\"845.72,-55.83 835.45,-53.24 841.86,-61.67 845.72,-55.83\"/>\n</g>\n<!-- 15 -->\n<g id=\"node16\" class=\"node\">\n<title>15</title>\n<path fill=\"#ea9b62\" stroke=\"black\" d=\"M1044,-53C1044,-53 907,-53 907,-53 901,-53 895,-47 895,-41 895,-41 895,-12 895,-12 895,-6 901,0 907,0 907,0 1044,0 1044,0 1050,0 1056,-6 1056,-12 1056,-12 1056,-41 1056,-41 1056,-47 1050,-53 1044,-53\"/>\n<text text-anchor=\"start\" x=\"903\" y=\"-37.8\" font-family=\"Helvetica,sans-Serif\" font-size=\"14.00\">absolute_error = 0.926</text>\n<text text-anchor=\"start\" x=\"932\" y=\"-22.8\" font-family=\"Helvetica,sans-Serif\" font-size=\"14.00\">samples = 47</text>\n<text text-anchor=\"start\" x=\"928.5\" y=\"-7.8\" font-family=\"Helvetica,sans-Serif\" font-size=\"14.00\">value = 30.601</text>\n</g>\n<!-- 13&#45;&gt;15 -->\n<g id=\"edge15\" class=\"edge\">\n<title>13&#45;&gt;15</title>\n<path fill=\"none\" stroke=\"black\" d=\"M952.09,-88.95C955.33,-80.44 958.83,-71.26 962.11,-62.65\"/>\n<polygon fill=\"black\" stroke=\"black\" points=\"965.41,-63.83 965.7,-53.24 958.86,-61.34 965.41,-63.83\"/>\n</g>\n<!-- 17 -->\n<g id=\"node18\" class=\"node\">\n<title>17</title>\n<path fill=\"#f0b58b\" stroke=\"black\" d=\"M1223,-53C1223,-53 1086,-53 1086,-53 1080,-53 1074,-47 1074,-41 1074,-41 1074,-12 1074,-12 1074,-6 1080,0 1086,0 1086,0 1223,0 1223,0 1229,0 1235,-6 1235,-12 1235,-12 1235,-41 1235,-41 1235,-47 1229,-53 1223,-53\"/>\n<text text-anchor=\"start\" x=\"1082\" y=\"-37.8\" font-family=\"Helvetica,sans-Serif\" font-size=\"14.00\">absolute_error = 0.994</text>\n<text text-anchor=\"start\" x=\"1107\" y=\"-22.8\" font-family=\"Helvetica,sans-Serif\" font-size=\"14.00\">samples = 185</text>\n<text text-anchor=\"start\" x=\"1107.5\" y=\"-7.8\" font-family=\"Helvetica,sans-Serif\" font-size=\"14.00\">value = 28.437</text>\n</g>\n<!-- 16&#45;&gt;17 -->\n<g id=\"edge17\" class=\"edge\">\n<title>16&#45;&gt;17</title>\n<path fill=\"none\" stroke=\"black\" d=\"M1177.91,-88.95C1174.67,-80.44 1171.17,-71.26 1167.89,-62.65\"/>\n<polygon fill=\"black\" stroke=\"black\" points=\"1171.14,-61.34 1164.3,-53.24 1164.59,-63.83 1171.14,-61.34\"/>\n</g>\n<!-- 18 -->\n<g id=\"node19\" class=\"node\">\n<title>18</title>\n<path fill=\"#f4ccaf\" stroke=\"black\" d=\"M1402,-53C1402,-53 1265,-53 1265,-53 1259,-53 1253,-47 1253,-41 1253,-41 1253,-12 1253,-12 1253,-6 1259,0 1265,0 1265,0 1402,0 1402,0 1408,0 1414,-6 1414,-12 1414,-12 1414,-41 1414,-41 1414,-47 1408,-53 1402,-53\"/>\n<text text-anchor=\"start\" x=\"1261\" y=\"-37.8\" font-family=\"Helvetica,sans-Serif\" font-size=\"14.00\">absolute_error = 0.447</text>\n<text text-anchor=\"start\" x=\"1294\" y=\"-22.8\" font-family=\"Helvetica,sans-Serif\" font-size=\"14.00\">samples = 8</text>\n<text text-anchor=\"start\" x=\"1286.5\" y=\"-7.8\" font-family=\"Helvetica,sans-Serif\" font-size=\"14.00\">value = 26.592</text>\n</g>\n<!-- 16&#45;&gt;18 -->\n<g id=\"edge18\" class=\"edge\">\n<title>16&#45;&gt;18</title>\n<path fill=\"none\" stroke=\"black\" d=\"M1240.51,-88.95C1255.33,-79.16 1271.49,-68.48 1286.13,-58.8\"/>\n<polygon fill=\"black\" stroke=\"black\" points=\"1288.14,-61.67 1294.55,-53.24 1284.28,-55.83 1288.14,-61.67\"/>\n</g>\n<!-- 20 -->\n<g id=\"node21\" class=\"node\">\n<title>20</title>\n<path fill=\"#f4cbae\" stroke=\"black\" d=\"M1464,-149.5C1464,-149.5 1327,-149.5 1327,-149.5 1321,-149.5 1315,-143.5 1315,-137.5 1315,-137.5 1315,-108.5 1315,-108.5 1315,-102.5 1321,-96.5 1327,-96.5 1327,-96.5 1464,-96.5 1464,-96.5 1470,-96.5 1476,-102.5 1476,-108.5 1476,-108.5 1476,-137.5 1476,-137.5 1476,-143.5 1470,-149.5 1464,-149.5\"/>\n<text text-anchor=\"start\" x=\"1323\" y=\"-134.3\" font-family=\"Helvetica,sans-Serif\" font-size=\"14.00\">absolute_error = 0.099</text>\n<text text-anchor=\"start\" x=\"1356\" y=\"-119.3\" font-family=\"Helvetica,sans-Serif\" font-size=\"14.00\">samples = 4</text>\n<text text-anchor=\"start\" x=\"1348.5\" y=\"-104.3\" font-family=\"Helvetica,sans-Serif\" font-size=\"14.00\">value = 26.619</text>\n</g>\n<!-- 19&#45;&gt;20 -->\n<g id=\"edge20\" class=\"edge\">\n<title>19&#45;&gt;20</title>\n<path fill=\"none\" stroke=\"black\" d=\"M1401.58,-192.88C1400.64,-182.22 1399.59,-170.35 1398.63,-159.52\"/>\n<polygon fill=\"black\" stroke=\"black\" points=\"1402.12,-159.17 1397.75,-149.52 1395.14,-159.79 1402.12,-159.17\"/>\n</g>\n<!-- 21 -->\n<g id=\"node22\" class=\"node\">\n<title>21</title>\n<path fill=\"#f1bd97\" stroke=\"black\" d=\"M1751,-157C1751,-157 1506,-157 1506,-157 1500,-157 1494,-151 1494,-145 1494,-145 1494,-101 1494,-101 1494,-95 1500,-89 1506,-89 1506,-89 1751,-89 1751,-89 1757,-89 1763,-95 1763,-101 1763,-101 1763,-145 1763,-145 1763,-151 1757,-157 1751,-157\"/>\n<text text-anchor=\"start\" x=\"1502\" y=\"-141.8\" font-family=\"Helvetica,sans-Serif\" font-size=\"14.00\">Spruce Roundwood Chip Share ≤ 6.093</text>\n<text text-anchor=\"start\" x=\"1556\" y=\"-126.8\" font-family=\"Helvetica,sans-Serif\" font-size=\"14.00\">absolute_error = 0.991</text>\n<text text-anchor=\"start\" x=\"1581\" y=\"-111.8\" font-family=\"Helvetica,sans-Serif\" font-size=\"14.00\">samples = 150</text>\n<text text-anchor=\"start\" x=\"1581.5\" y=\"-96.8\" font-family=\"Helvetica,sans-Serif\" font-size=\"14.00\">value = 27.804</text>\n</g>\n<!-- 19&#45;&gt;21 -->\n<g id=\"edge21\" class=\"edge\">\n<title>19&#45;&gt;21</title>\n<path fill=\"none\" stroke=\"black\" d=\"M1477.23,-192.88C1499.35,-182.81 1523.8,-171.67 1546.49,-161.34\"/>\n<polygon fill=\"black\" stroke=\"black\" points=\"1548.11,-164.45 1555.76,-157.12 1545.2,-158.08 1548.11,-164.45\"/>\n</g>\n<!-- 22 -->\n<g id=\"node23\" class=\"node\">\n<title>22</title>\n<path fill=\"#f2c09c\" stroke=\"black\" d=\"M1581,-53C1581,-53 1444,-53 1444,-53 1438,-53 1432,-47 1432,-41 1432,-41 1432,-12 1432,-12 1432,-6 1438,0 1444,0 1444,0 1581,0 1581,0 1587,0 1593,-6 1593,-12 1593,-12 1593,-41 1593,-41 1593,-47 1587,-53 1581,-53\"/>\n<text text-anchor=\"start\" x=\"1440\" y=\"-37.8\" font-family=\"Helvetica,sans-Serif\" font-size=\"14.00\">absolute_error = 1.245</text>\n<text text-anchor=\"start\" x=\"1469\" y=\"-22.8\" font-family=\"Helvetica,sans-Serif\" font-size=\"14.00\">samples = 58</text>\n<text text-anchor=\"start\" x=\"1469.5\" y=\"-7.8\" font-family=\"Helvetica,sans-Serif\" font-size=\"14.00\">value = 27.56</text>\n</g>\n<!-- 21&#45;&gt;22 -->\n<g id=\"edge22\" class=\"edge\">\n<title>21&#45;&gt;22</title>\n<path fill=\"none\" stroke=\"black\" d=\"M1587.93,-88.95C1576.25,-79.43 1563.53,-69.07 1551.92,-59.62\"/>\n<polygon fill=\"black\" stroke=\"black\" points=\"1554.06,-56.84 1544.09,-53.24 1549.63,-62.27 1554.06,-56.84\"/>\n</g>\n<!-- 23 -->\n<g id=\"node24\" class=\"node\">\n<title>23</title>\n<path fill=\"#f1bb93\" stroke=\"black\" d=\"M1760,-53C1760,-53 1623,-53 1623,-53 1617,-53 1611,-47 1611,-41 1611,-41 1611,-12 1611,-12 1611,-6 1617,0 1623,0 1623,0 1760,0 1760,0 1766,0 1772,-6 1772,-12 1772,-12 1772,-41 1772,-41 1772,-47 1766,-53 1760,-53\"/>\n<text text-anchor=\"start\" x=\"1619\" y=\"-37.8\" font-family=\"Helvetica,sans-Serif\" font-size=\"14.00\">absolute_error = 0.799</text>\n<text text-anchor=\"start\" x=\"1648\" y=\"-22.8\" font-family=\"Helvetica,sans-Serif\" font-size=\"14.00\">samples = 92</text>\n<text text-anchor=\"start\" x=\"1644.5\" y=\"-7.8\" font-family=\"Helvetica,sans-Serif\" font-size=\"14.00\">value = 28.003</text>\n</g>\n<!-- 21&#45;&gt;23 -->\n<g id=\"edge23\" class=\"edge\">\n<title>21&#45;&gt;23</title>\n<path fill=\"none\" stroke=\"black\" d=\"M1650.53,-88.95C1656.39,-80.17 1662.72,-70.66 1668.62,-61.82\"/>\n<polygon fill=\"black\" stroke=\"black\" points=\"1671.71,-63.5 1674.34,-53.24 1665.88,-59.62 1671.71,-63.5\"/>\n</g>\n<!-- 25 -->\n<g id=\"node26\" class=\"node\">\n<title>25</title>\n<path fill=\"#f1bd98\" stroke=\"black\" d=\"M2576.5,-365C2576.5,-365 2340.5,-365 2340.5,-365 2334.5,-365 2328.5,-359 2328.5,-353 2328.5,-353 2328.5,-309 2328.5,-309 2328.5,-303 2334.5,-297 2340.5,-297 2340.5,-297 2576.5,-297 2576.5,-297 2582.5,-297 2588.5,-303 2588.5,-309 2588.5,-309 2588.5,-353 2588.5,-353 2588.5,-359 2582.5,-365 2576.5,-365\"/>\n<text text-anchor=\"start\" x=\"2336.5\" y=\"-349.8\" font-family=\"Helvetica,sans-Serif\" font-size=\"14.00\">Pine Roundwood Chip Share ≤ 80.153</text>\n<text text-anchor=\"start\" x=\"2386\" y=\"-334.8\" font-family=\"Helvetica,sans-Serif\" font-size=\"14.00\">absolute_error = 1.096</text>\n<text text-anchor=\"start\" x=\"2407\" y=\"-319.8\" font-family=\"Helvetica,sans-Serif\" font-size=\"14.00\">samples = 3746</text>\n<text text-anchor=\"start\" x=\"2411.5\" y=\"-304.8\" font-family=\"Helvetica,sans-Serif\" font-size=\"14.00\">value = 27.783</text>\n</g>\n<!-- 24&#45;&gt;25 -->\n<g id=\"edge25\" class=\"edge\">\n<title>24&#45;&gt;25</title>\n<path fill=\"none\" stroke=\"black\" d=\"M2458.5,-400.88C2458.5,-392.78 2458.5,-383.98 2458.5,-375.47\"/>\n<polygon fill=\"black\" stroke=\"black\" points=\"2462,-375.3 2458.5,-365.3 2455,-375.3 2462,-375.3\"/>\n</g>\n<!-- 40 -->\n<g id=\"node41\" class=\"node\">\n<title>40</title>\n<path fill=\"#f3c5a3\" stroke=\"black\" d=\"M3608.5,-365C3608.5,-365 3452.5,-365 3452.5,-365 3446.5,-365 3440.5,-359 3440.5,-353 3440.5,-353 3440.5,-309 3440.5,-309 3440.5,-303 3446.5,-297 3452.5,-297 3452.5,-297 3608.5,-297 3608.5,-297 3614.5,-297 3620.5,-303 3620.5,-309 3620.5,-309 3620.5,-353 3620.5,-353 3620.5,-359 3614.5,-365 3608.5,-365\"/>\n<text text-anchor=\"start\" x=\"3448.5\" y=\"-349.8\" font-family=\"Helvetica,sans-Serif\" font-size=\"14.00\">H&#45;factor Target ≤ 649.355</text>\n<text text-anchor=\"start\" x=\"3462\" y=\"-334.8\" font-family=\"Helvetica,sans-Serif\" font-size=\"14.00\">absolute_error = 1.14</text>\n<text text-anchor=\"start\" x=\"3483\" y=\"-319.8\" font-family=\"Helvetica,sans-Serif\" font-size=\"14.00\">samples = 589</text>\n<text text-anchor=\"start\" x=\"3483.5\" y=\"-304.8\" font-family=\"Helvetica,sans-Serif\" font-size=\"14.00\">value = 27.191</text>\n</g>\n<!-- 24&#45;&gt;40 -->\n<g id=\"edge40\" class=\"edge\">\n<title>24&#45;&gt;40</title>\n<path fill=\"none\" stroke=\"black\" d=\"M2548.51,-425.44C2747.24,-406.53 3222.26,-361.33 3430.17,-341.55\"/>\n<polygon fill=\"black\" stroke=\"black\" points=\"3430.54,-345.03 3440.17,-340.6 3429.88,-338.06 3430.54,-345.03\"/>\n</g>\n<!-- 26 -->\n<g id=\"node27\" class=\"node\">\n<title>26</title>\n<path fill=\"#f1bc95\" stroke=\"black\" d=\"M2399,-261C2399,-261 2262,-261 2262,-261 2256,-261 2250,-255 2250,-249 2250,-249 2250,-205 2250,-205 2250,-199 2256,-193 2262,-193 2262,-193 2399,-193 2399,-193 2405,-193 2411,-199 2411,-205 2411,-205 2411,-249 2411,-249 2411,-255 2405,-261 2399,-261\"/>\n<text text-anchor=\"start\" x=\"2262.5\" y=\"-245.8\" font-family=\"Helvetica,sans-Serif\" font-size=\"14.00\">Blow Kappa ≤ 30.188</text>\n<text text-anchor=\"start\" x=\"2258\" y=\"-230.8\" font-family=\"Helvetica,sans-Serif\" font-size=\"14.00\">absolute_error = 0.953</text>\n<text text-anchor=\"start\" x=\"2279\" y=\"-215.8\" font-family=\"Helvetica,sans-Serif\" font-size=\"14.00\">samples = 2363</text>\n<text text-anchor=\"start\" x=\"2283.5\" y=\"-200.8\" font-family=\"Helvetica,sans-Serif\" font-size=\"14.00\">value = 27.918</text>\n</g>\n<!-- 25&#45;&gt;26 -->\n<g id=\"edge26\" class=\"edge\">\n<title>25&#45;&gt;26</title>\n<path fill=\"none\" stroke=\"black\" d=\"M2416.94,-296.88C2405.21,-287.53 2392.32,-277.26 2380.15,-267.57\"/>\n<polygon fill=\"black\" stroke=\"black\" points=\"2382.29,-264.79 2372.29,-261.3 2377.93,-270.27 2382.29,-264.79\"/>\n</g>\n<!-- 33 -->\n<g id=\"node34\" class=\"node\">\n<title>33</title>\n<path fill=\"#f2c29f\" stroke=\"black\" d=\"M2808,-261C2808,-261 2533,-261 2533,-261 2527,-261 2521,-255 2521,-249 2521,-249 2521,-205 2521,-205 2521,-199 2527,-193 2533,-193 2533,-193 2808,-193 2808,-193 2814,-193 2820,-199 2820,-205 2820,-205 2820,-249 2820,-249 2820,-255 2814,-261 2808,-261\"/>\n<text text-anchor=\"start\" x=\"2529\" y=\"-245.8\" font-family=\"Helvetica,sans-Serif\" font-size=\"14.00\">White Liquor Flow to Digester Plant ≤ 43.446</text>\n<text text-anchor=\"start\" x=\"2598\" y=\"-230.8\" font-family=\"Helvetica,sans-Serif\" font-size=\"14.00\">absolute_error = 1.293</text>\n<text text-anchor=\"start\" x=\"2619\" y=\"-215.8\" font-family=\"Helvetica,sans-Serif\" font-size=\"14.00\">samples = 1383</text>\n<text text-anchor=\"start\" x=\"2623.5\" y=\"-200.8\" font-family=\"Helvetica,sans-Serif\" font-size=\"14.00\">value = 27.401</text>\n</g>\n<!-- 25&#45;&gt;33 -->\n<g id=\"edge33\" class=\"edge\">\n<title>25&#45;&gt;33</title>\n<path fill=\"none\" stroke=\"black\" d=\"M2527.33,-296.88C2548.17,-286.86 2571.21,-275.77 2592.6,-265.48\"/>\n<polygon fill=\"black\" stroke=\"black\" points=\"2594.16,-268.61 2601.65,-261.12 2591.12,-262.31 2594.16,-268.61\"/>\n</g>\n<!-- 27 -->\n<g id=\"node28\" class=\"node\">\n<title>27</title>\n<path fill=\"#f1bd97\" stroke=\"black\" d=\"M2194.5,-157C2194.5,-157 1904.5,-157 1904.5,-157 1898.5,-157 1892.5,-151 1892.5,-145 1892.5,-145 1892.5,-101 1892.5,-101 1892.5,-95 1898.5,-89 1904.5,-89 1904.5,-89 2194.5,-89 2194.5,-89 2200.5,-89 2206.5,-95 2206.5,-101 2206.5,-101 2206.5,-145 2206.5,-145 2206.5,-151 2200.5,-157 2194.5,-157\"/>\n<text text-anchor=\"start\" x=\"1900.5\" y=\"-141.8\" font-family=\"Helvetica,sans-Serif\" font-size=\"14.00\">Digester Steam Space Temperature ≤ 144.409</text>\n<text text-anchor=\"start\" x=\"1977\" y=\"-126.8\" font-family=\"Helvetica,sans-Serif\" font-size=\"14.00\">absolute_error = 0.835</text>\n<text text-anchor=\"start\" x=\"1998\" y=\"-111.8\" font-family=\"Helvetica,sans-Serif\" font-size=\"14.00\">samples = 2250</text>\n<text text-anchor=\"start\" x=\"2002.5\" y=\"-96.8\" font-family=\"Helvetica,sans-Serif\" font-size=\"14.00\">value = 27.846</text>\n</g>\n<!-- 26&#45;&gt;27 -->\n<g id=\"edge27\" class=\"edge\">\n<title>26&#45;&gt;27</title>\n<path fill=\"none\" stroke=\"black\" d=\"M2249.98,-196.77C2218.83,-185.47 2182.85,-172.4 2150.03,-160.49\"/>\n<polygon fill=\"black\" stroke=\"black\" points=\"2151.01,-157.12 2140.42,-157 2148.62,-163.7 2151.01,-157.12\"/>\n</g>\n<!-- 30 -->\n<g id=\"node31\" class=\"node\">\n<title>30</title>\n<path fill=\"#e9965b\" stroke=\"black\" d=\"M2416.5,-157C2416.5,-157 2244.5,-157 2244.5,-157 2238.5,-157 2232.5,-151 2232.5,-145 2232.5,-145 2232.5,-101 2232.5,-101 2232.5,-95 2238.5,-89 2244.5,-89 2244.5,-89 2416.5,-89 2416.5,-89 2422.5,-89 2428.5,-95 2428.5,-101 2428.5,-101 2428.5,-145 2428.5,-145 2428.5,-151 2422.5,-157 2416.5,-157\"/>\n<text text-anchor=\"start\" x=\"2240.5\" y=\"-141.8\" font-family=\"Helvetica,sans-Serif\" font-size=\"14.00\">Blow Production ≤ 1184.714</text>\n<text text-anchor=\"start\" x=\"2258\" y=\"-126.8\" font-family=\"Helvetica,sans-Serif\" font-size=\"14.00\">absolute_error = 0.613</text>\n<text text-anchor=\"start\" x=\"2283\" y=\"-111.8\" font-family=\"Helvetica,sans-Serif\" font-size=\"14.00\">samples = 113</text>\n<text text-anchor=\"start\" x=\"2283.5\" y=\"-96.8\" font-family=\"Helvetica,sans-Serif\" font-size=\"14.00\">value = 30.966</text>\n</g>\n<!-- 26&#45;&gt;30 -->\n<g id=\"edge30\" class=\"edge\">\n<title>26&#45;&gt;30</title>\n<path fill=\"none\" stroke=\"black\" d=\"M2330.5,-192.88C2330.5,-184.78 2330.5,-175.98 2330.5,-167.47\"/>\n<polygon fill=\"black\" stroke=\"black\" points=\"2334,-167.3 2330.5,-157.3 2327,-167.3 2334,-167.3\"/>\n</g>\n<!-- 28 -->\n<g id=\"node29\" class=\"node\">\n<title>28</title>\n<path fill=\"#f4c9aa\" stroke=\"black\" d=\"M1939,-53C1939,-53 1802,-53 1802,-53 1796,-53 1790,-47 1790,-41 1790,-41 1790,-12 1790,-12 1790,-6 1796,0 1802,0 1802,0 1939,0 1939,0 1945,0 1951,-6 1951,-12 1951,-12 1951,-41 1951,-41 1951,-47 1945,-53 1939,-53\"/>\n<text text-anchor=\"start\" x=\"1798\" y=\"-37.8\" font-family=\"Helvetica,sans-Serif\" font-size=\"14.00\">absolute_error = 0.576</text>\n<text text-anchor=\"start\" x=\"1827\" y=\"-22.8\" font-family=\"Helvetica,sans-Serif\" font-size=\"14.00\">samples = 69</text>\n<text text-anchor=\"start\" x=\"1823.5\" y=\"-7.8\" font-family=\"Helvetica,sans-Serif\" font-size=\"14.00\">value = 26.845</text>\n</g>\n<!-- 27&#45;&gt;28 -->\n<g id=\"edge28\" class=\"edge\">\n<title>27&#45;&gt;28</title>\n<path fill=\"none\" stroke=\"black\" d=\"M1986.89,-88.95C1967.75,-78.84 1946.79,-67.78 1928,-57.86\"/>\n<polygon fill=\"black\" stroke=\"black\" points=\"1929.44,-54.66 1918.97,-53.09 1926.18,-60.85 1929.44,-54.66\"/>\n</g>\n<!-- 29 -->\n<g id=\"node30\" class=\"node\">\n<title>29</title>\n<path fill=\"#f1bc96\" stroke=\"black\" d=\"M2118,-53C2118,-53 1981,-53 1981,-53 1975,-53 1969,-47 1969,-41 1969,-41 1969,-12 1969,-12 1969,-6 1975,0 1981,0 1981,0 2118,0 2118,0 2124,0 2130,-6 2130,-12 2130,-12 2130,-41 2130,-41 2130,-47 2124,-53 2118,-53\"/>\n<text text-anchor=\"start\" x=\"1977\" y=\"-37.8\" font-family=\"Helvetica,sans-Serif\" font-size=\"14.00\">absolute_error = 0.832</text>\n<text text-anchor=\"start\" x=\"1998\" y=\"-22.8\" font-family=\"Helvetica,sans-Serif\" font-size=\"14.00\">samples = 2181</text>\n<text text-anchor=\"start\" x=\"2002.5\" y=\"-7.8\" font-family=\"Helvetica,sans-Serif\" font-size=\"14.00\">value = 27.876</text>\n</g>\n<!-- 27&#45;&gt;29 -->\n<g id=\"edge29\" class=\"edge\">\n<title>27&#45;&gt;29</title>\n<path fill=\"none\" stroke=\"black\" d=\"M2049.5,-88.95C2049.5,-80.72 2049.5,-71.85 2049.5,-63.48\"/>\n<polygon fill=\"black\" stroke=\"black\" points=\"2053,-63.24 2049.5,-53.24 2046,-63.24 2053,-63.24\"/>\n</g>\n<!-- 31 -->\n<g id=\"node32\" class=\"node\">\n<title>31</title>\n<path fill=\"#e58139\" stroke=\"black\" d=\"M2297,-53C2297,-53 2160,-53 2160,-53 2154,-53 2148,-47 2148,-41 2148,-41 2148,-12 2148,-12 2148,-6 2154,0 2160,0 2160,0 2297,0 2297,0 2303,0 2309,-6 2309,-12 2309,-12 2309,-41 2309,-41 2309,-47 2303,-53 2297,-53\"/>\n<text text-anchor=\"start\" x=\"2156\" y=\"-37.8\" font-family=\"Helvetica,sans-Serif\" font-size=\"14.00\">absolute_error = 0.656</text>\n<text text-anchor=\"start\" x=\"2185\" y=\"-22.8\" font-family=\"Helvetica,sans-Serif\" font-size=\"14.00\">samples = 13</text>\n<text text-anchor=\"start\" x=\"2181.5\" y=\"-7.8\" font-family=\"Helvetica,sans-Serif\" font-size=\"14.00\">value = 32.718</text>\n</g>\n<!-- 30&#45;&gt;31 -->\n<g id=\"edge31\" class=\"edge\">\n<title>30&#45;&gt;31</title>\n<path fill=\"none\" stroke=\"black\" d=\"M2294.83,-88.95C2284.75,-79.62 2273.8,-69.47 2263.76,-60.16\"/>\n<polygon fill=\"black\" stroke=\"black\" points=\"2265.99,-57.47 2256.28,-53.24 2261.24,-62.6 2265.99,-57.47\"/>\n</g>\n<!-- 32 -->\n<g id=\"node33\" class=\"node\">\n<title>32</title>\n<path fill=\"#ea975c\" stroke=\"black\" d=\"M2476,-53C2476,-53 2339,-53 2339,-53 2333,-53 2327,-47 2327,-41 2327,-41 2327,-12 2327,-12 2327,-6 2333,0 2339,0 2339,0 2476,0 2476,0 2482,0 2488,-6 2488,-12 2488,-12 2488,-41 2488,-41 2488,-47 2482,-53 2476,-53\"/>\n<text text-anchor=\"start\" x=\"2335\" y=\"-37.8\" font-family=\"Helvetica,sans-Serif\" font-size=\"14.00\">absolute_error = 0.501</text>\n<text text-anchor=\"start\" x=\"2360\" y=\"-22.8\" font-family=\"Helvetica,sans-Serif\" font-size=\"14.00\">samples = 100</text>\n<text text-anchor=\"start\" x=\"2360.5\" y=\"-7.8\" font-family=\"Helvetica,sans-Serif\" font-size=\"14.00\">value = 30.919</text>\n</g>\n<!-- 30&#45;&gt;32 -->\n<g id=\"edge32\" class=\"edge\">\n<title>30&#45;&gt;32</title>\n<path fill=\"none\" stroke=\"black\" d=\"M2357.43,-88.95C2364.74,-79.98 2372.65,-70.27 2379.99,-61.26\"/>\n<polygon fill=\"black\" stroke=\"black\" points=\"2382.93,-63.2 2386.53,-53.24 2377.5,-58.78 2382.93,-63.2\"/>\n</g>\n<!-- 34 -->\n<g id=\"node35\" class=\"node\">\n<title>34</title>\n<path fill=\"#f1bc96\" stroke=\"black\" d=\"M2748.5,-157C2748.5,-157 2592.5,-157 2592.5,-157 2586.5,-157 2580.5,-151 2580.5,-145 2580.5,-145 2580.5,-101 2580.5,-101 2580.5,-95 2586.5,-89 2592.5,-89 2592.5,-89 2748.5,-89 2748.5,-89 2754.5,-89 2760.5,-95 2760.5,-101 2760.5,-101 2760.5,-145 2760.5,-145 2760.5,-151 2754.5,-157 2748.5,-157\"/>\n<text text-anchor=\"start\" x=\"2588.5\" y=\"-141.8\" font-family=\"Helvetica,sans-Serif\" font-size=\"14.00\">H&#45;factor Target ≤ 554.198</text>\n<text text-anchor=\"start\" x=\"2598\" y=\"-126.8\" font-family=\"Helvetica,sans-Serif\" font-size=\"14.00\">absolute_error = 1.381</text>\n<text text-anchor=\"start\" x=\"2623\" y=\"-111.8\" font-family=\"Helvetica,sans-Serif\" font-size=\"14.00\">samples = 942</text>\n<text text-anchor=\"start\" x=\"2623.5\" y=\"-96.8\" font-family=\"Helvetica,sans-Serif\" font-size=\"14.00\">value = 27.864</text>\n</g>\n<!-- 33&#45;&gt;34 -->\n<g id=\"edge34\" class=\"edge\">\n<title>33&#45;&gt;34</title>\n<path fill=\"none\" stroke=\"black\" d=\"M2670.5,-192.88C2670.5,-184.78 2670.5,-175.98 2670.5,-167.47\"/>\n<polygon fill=\"black\" stroke=\"black\" points=\"2674,-167.3 2670.5,-157.3 2667,-167.3 2674,-167.3\"/>\n</g>\n<!-- 37 -->\n<g id=\"node38\" class=\"node\">\n<title>37</title>\n<path fill=\"#f4c9aa\" stroke=\"black\" d=\"M3013,-157C3013,-157 2876,-157 2876,-157 2870,-157 2864,-151 2864,-145 2864,-145 2864,-101 2864,-101 2864,-95 2870,-89 2876,-89 2876,-89 3013,-89 3013,-89 3019,-89 3025,-95 3025,-101 3025,-101 3025,-145 3025,-145 3025,-151 3019,-157 3013,-157\"/>\n<text text-anchor=\"start\" x=\"2876.5\" y=\"-141.8\" font-family=\"Helvetica,sans-Serif\" font-size=\"14.00\">Blow Kappa ≤ 25.544</text>\n<text text-anchor=\"start\" x=\"2872\" y=\"-126.8\" font-family=\"Helvetica,sans-Serif\" font-size=\"14.00\">absolute_error = 0.857</text>\n<text text-anchor=\"start\" x=\"2897\" y=\"-111.8\" font-family=\"Helvetica,sans-Serif\" font-size=\"14.00\">samples = 441</text>\n<text text-anchor=\"start\" x=\"2897.5\" y=\"-96.8\" font-family=\"Helvetica,sans-Serif\" font-size=\"14.00\">value = 26.835</text>\n</g>\n<!-- 33&#45;&gt;37 -->\n<g id=\"edge37\" class=\"edge\">\n<title>33&#45;&gt;37</title>\n<path fill=\"none\" stroke=\"black\" d=\"M2759.46,-192.88C2789.78,-181.6 2823.68,-168.98 2854.11,-157.65\"/>\n<polygon fill=\"black\" stroke=\"black\" points=\"2855.71,-160.79 2863.86,-154.02 2853.27,-154.23 2855.71,-160.79\"/>\n</g>\n<!-- 35 -->\n<g id=\"node36\" class=\"node\">\n<title>35</title>\n<path fill=\"#f0b88f\" stroke=\"black\" d=\"M2655,-53C2655,-53 2518,-53 2518,-53 2512,-53 2506,-47 2506,-41 2506,-41 2506,-12 2506,-12 2506,-6 2512,0 2518,0 2518,0 2655,0 2655,0 2661,0 2667,-6 2667,-12 2667,-12 2667,-41 2667,-41 2667,-47 2661,-53 2655,-53\"/>\n<text text-anchor=\"start\" x=\"2514\" y=\"-37.8\" font-family=\"Helvetica,sans-Serif\" font-size=\"14.00\">absolute_error = 1.032</text>\n<text text-anchor=\"start\" x=\"2539\" y=\"-22.8\" font-family=\"Helvetica,sans-Serif\" font-size=\"14.00\">samples = 515</text>\n<text text-anchor=\"start\" x=\"2539.5\" y=\"-7.8\" font-family=\"Helvetica,sans-Serif\" font-size=\"14.00\">value = 28.247</text>\n</g>\n<!-- 34&#45;&gt;35 -->\n<g id=\"edge35\" class=\"edge\">\n<title>34&#45;&gt;35</title>\n<path fill=\"none\" stroke=\"black\" d=\"M2641.12,-88.95C2632.99,-79.8 2624.16,-69.87 2616.02,-60.71\"/>\n<polygon fill=\"black\" stroke=\"black\" points=\"2618.64,-58.39 2609.38,-53.24 2613.4,-63.04 2618.64,-58.39\"/>\n</g>\n<!-- 36 -->\n<g id=\"node37\" class=\"node\">\n<title>36</title>\n<path fill=\"#f3c6a6\" stroke=\"black\" d=\"M2834,-53C2834,-53 2697,-53 2697,-53 2691,-53 2685,-47 2685,-41 2685,-41 2685,-12 2685,-12 2685,-6 2691,0 2697,0 2697,0 2834,0 2834,0 2840,0 2846,-6 2846,-12 2846,-12 2846,-41 2846,-41 2846,-47 2840,-53 2834,-53\"/>\n<text text-anchor=\"start\" x=\"2693\" y=\"-37.8\" font-family=\"Helvetica,sans-Serif\" font-size=\"14.00\">absolute_error = 1.643</text>\n<text text-anchor=\"start\" x=\"2718\" y=\"-22.8\" font-family=\"Helvetica,sans-Serif\" font-size=\"14.00\">samples = 427</text>\n<text text-anchor=\"start\" x=\"2718.5\" y=\"-7.8\" font-family=\"Helvetica,sans-Serif\" font-size=\"14.00\">value = 27.028</text>\n</g>\n<!-- 34&#45;&gt;36 -->\n<g id=\"edge36\" class=\"edge\">\n<title>34&#45;&gt;36</title>\n<path fill=\"none\" stroke=\"black\" d=\"M2703.73,-88.95C2713.01,-79.71 2723.11,-69.67 2732.39,-60.44\"/>\n<polygon fill=\"black\" stroke=\"black\" points=\"2735.01,-62.77 2739.63,-53.24 2730.07,-57.81 2735.01,-62.77\"/>\n</g>\n<!-- 38 -->\n<g id=\"node39\" class=\"node\">\n<title>38</title>\n<path fill=\"#f9e0cf\" stroke=\"black\" d=\"M3013,-53C3013,-53 2876,-53 2876,-53 2870,-53 2864,-47 2864,-41 2864,-41 2864,-12 2864,-12 2864,-6 2870,0 2876,0 2876,0 3013,0 3013,0 3019,0 3025,-6 3025,-12 3025,-12 3025,-41 3025,-41 3025,-47 3019,-53 3013,-53\"/>\n<text text-anchor=\"start\" x=\"2872\" y=\"-37.8\" font-family=\"Helvetica,sans-Serif\" font-size=\"14.00\">absolute_error = 0.317</text>\n<text text-anchor=\"start\" x=\"2901\" y=\"-22.8\" font-family=\"Helvetica,sans-Serif\" font-size=\"14.00\">samples = 69</text>\n<text text-anchor=\"start\" x=\"2897.5\" y=\"-7.8\" font-family=\"Helvetica,sans-Serif\" font-size=\"14.00\">value = 24.918</text>\n</g>\n<!-- 37&#45;&gt;38 -->\n<g id=\"edge38\" class=\"edge\">\n<title>37&#45;&gt;38</title>\n<path fill=\"none\" stroke=\"black\" d=\"M2944.5,-88.95C2944.5,-80.72 2944.5,-71.85 2944.5,-63.48\"/>\n<polygon fill=\"black\" stroke=\"black\" points=\"2948,-63.24 2944.5,-53.24 2941,-63.24 2948,-63.24\"/>\n</g>\n<!-- 39 -->\n<g id=\"node40\" class=\"node\">\n<title>39</title>\n<path fill=\"#f3c6a6\" stroke=\"black\" d=\"M3192,-53C3192,-53 3055,-53 3055,-53 3049,-53 3043,-47 3043,-41 3043,-41 3043,-12 3043,-12 3043,-6 3049,0 3055,0 3055,0 3192,0 3192,0 3198,0 3204,-6 3204,-12 3204,-12 3204,-41 3204,-41 3204,-47 3198,-53 3192,-53\"/>\n<text text-anchor=\"start\" x=\"3051\" y=\"-37.8\" font-family=\"Helvetica,sans-Serif\" font-size=\"14.00\">absolute_error = 0.646</text>\n<text text-anchor=\"start\" x=\"3076\" y=\"-22.8\" font-family=\"Helvetica,sans-Serif\" font-size=\"14.00\">samples = 372</text>\n<text text-anchor=\"start\" x=\"3076.5\" y=\"-7.8\" font-family=\"Helvetica,sans-Serif\" font-size=\"14.00\">value = 27.059</text>\n</g>\n<!-- 37&#45;&gt;39 -->\n<g id=\"edge39\" class=\"edge\">\n<title>37&#45;&gt;39</title>\n<path fill=\"none\" stroke=\"black\" d=\"M3007.11,-88.95C3026.25,-78.84 3047.21,-67.78 3066,-57.86\"/>\n<polygon fill=\"black\" stroke=\"black\" points=\"3067.82,-60.85 3075.03,-53.09 3064.56,-54.66 3067.82,-60.85\"/>\n</g>\n<!-- 41 -->\n<g id=\"node42\" class=\"node\">\n<title>41</title>\n<path fill=\"#f3c3a1\" stroke=\"black\" d=\"M3675.5,-261C3675.5,-261 3385.5,-261 3385.5,-261 3379.5,-261 3373.5,-255 3373.5,-249 3373.5,-249 3373.5,-205 3373.5,-205 3373.5,-199 3379.5,-193 3385.5,-193 3385.5,-193 3675.5,-193 3675.5,-193 3681.5,-193 3687.5,-199 3687.5,-205 3687.5,-205 3687.5,-249 3687.5,-249 3687.5,-255 3681.5,-261 3675.5,-261\"/>\n<text text-anchor=\"start\" x=\"3381.5\" y=\"-245.8\" font-family=\"Helvetica,sans-Serif\" font-size=\"14.00\">Digester Steam Space Temperature ≤ 147.562</text>\n<text text-anchor=\"start\" x=\"3458\" y=\"-230.8\" font-family=\"Helvetica,sans-Serif\" font-size=\"14.00\">absolute_error = 0.957</text>\n<text text-anchor=\"start\" x=\"3483\" y=\"-215.8\" font-family=\"Helvetica,sans-Serif\" font-size=\"14.00\">samples = 532</text>\n<text text-anchor=\"start\" x=\"3483.5\" y=\"-200.8\" font-family=\"Helvetica,sans-Serif\" font-size=\"14.00\">value = 27.291</text>\n</g>\n<!-- 40&#45;&gt;41 -->\n<g id=\"edge41\" class=\"edge\">\n<title>40&#45;&gt;41</title>\n<path fill=\"none\" stroke=\"black\" d=\"M3530.5,-296.88C3530.5,-288.78 3530.5,-279.98 3530.5,-271.47\"/>\n<polygon fill=\"black\" stroke=\"black\" points=\"3534,-271.3 3530.5,-261.3 3527,-271.3 3534,-271.3\"/>\n</g>\n<!-- 48 -->\n<g id=\"node49\" class=\"node\">\n<title>48</title>\n<path fill=\"#fae9dc\" stroke=\"black\" d=\"M4092,-261C4092,-261 3955,-261 3955,-261 3949,-261 3943,-255 3943,-249 3943,-249 3943,-205 3943,-205 3943,-199 3949,-193 3955,-193 3955,-193 4092,-193 4092,-193 4098,-193 4104,-199 4104,-205 4104,-205 4104,-249 4104,-249 4104,-255 4098,-261 4092,-261\"/>\n<text text-anchor=\"start\" x=\"3955.5\" y=\"-245.8\" font-family=\"Helvetica,sans-Serif\" font-size=\"14.00\">Blow Kappa ≤ 23.449</text>\n<text text-anchor=\"start\" x=\"3951\" y=\"-230.8\" font-family=\"Helvetica,sans-Serif\" font-size=\"14.00\">absolute_error = 1.467</text>\n<text text-anchor=\"start\" x=\"3980\" y=\"-215.8\" font-family=\"Helvetica,sans-Serif\" font-size=\"14.00\">samples = 57</text>\n<text text-anchor=\"start\" x=\"3976.5\" y=\"-200.8\" font-family=\"Helvetica,sans-Serif\" font-size=\"14.00\">value = 24.217</text>\n</g>\n<!-- 40&#45;&gt;48 -->\n<g id=\"edge48\" class=\"edge\">\n<title>40&#45;&gt;48</title>\n<path fill=\"none\" stroke=\"black\" d=\"M3620.64,-311.35C3709.42,-292.98 3844.29,-265.08 3933.14,-246.69\"/>\n<polygon fill=\"black\" stroke=\"black\" points=\"3933.85,-250.12 3942.94,-244.67 3932.44,-243.27 3933.85,-250.12\"/>\n</g>\n<!-- 42 -->\n<g id=\"node43\" class=\"node\">\n<title>42</title>\n<path fill=\"#f6d2b9\" stroke=\"black\" d=\"M3508.5,-157C3508.5,-157 3286.5,-157 3286.5,-157 3280.5,-157 3274.5,-151 3274.5,-145 3274.5,-145 3274.5,-101 3274.5,-101 3274.5,-95 3280.5,-89 3286.5,-89 3286.5,-89 3508.5,-89 3508.5,-89 3514.5,-89 3520.5,-95 3520.5,-101 3520.5,-101 3520.5,-145 3520.5,-145 3520.5,-151 3514.5,-157 3508.5,-157\"/>\n<text text-anchor=\"start\" x=\"3282.5\" y=\"-141.8\" font-family=\"Helvetica,sans-Serif\" font-size=\"14.00\">White Liquor Total Dosage ≤ 21.652</text>\n<text text-anchor=\"start\" x=\"3325\" y=\"-126.8\" font-family=\"Helvetica,sans-Serif\" font-size=\"14.00\">absolute_error = 0.407</text>\n<text text-anchor=\"start\" x=\"3354\" y=\"-111.8\" font-family=\"Helvetica,sans-Serif\" font-size=\"14.00\">samples = 11</text>\n<text text-anchor=\"start\" x=\"3350.5\" y=\"-96.8\" font-family=\"Helvetica,sans-Serif\" font-size=\"14.00\">value = 26.062</text>\n</g>\n<!-- 41&#45;&gt;42 -->\n<g id=\"edge42\" class=\"edge\">\n<title>41&#45;&gt;42</title>\n<path fill=\"none\" stroke=\"black\" d=\"M3487.32,-192.88C3475.12,-183.53 3461.73,-173.26 3449.09,-163.57\"/>\n<polygon fill=\"black\" stroke=\"black\" points=\"3450.98,-160.61 3440.92,-157.3 3446.72,-166.16 3450.98,-160.61\"/>\n</g>\n<!-- 45 -->\n<g id=\"node46\" class=\"node\">\n<title>45</title>\n<path fill=\"#f3c3a1\" stroke=\"black\" d=\"M3778,-157C3778,-157 3551,-157 3551,-157 3545,-157 3539,-151 3539,-145 3539,-145 3539,-101 3539,-101 3539,-95 3545,-89 3551,-89 3551,-89 3778,-89 3778,-89 3784,-89 3790,-95 3790,-101 3790,-101 3790,-145 3790,-145 3790,-151 3784,-157 3778,-157\"/>\n<text text-anchor=\"start\" x=\"3547\" y=\"-141.8\" font-family=\"Helvetica,sans-Serif\" font-size=\"14.00\">Digester Chip Level Control ≤ 42.048</text>\n<text text-anchor=\"start\" x=\"3592\" y=\"-126.8\" font-family=\"Helvetica,sans-Serif\" font-size=\"14.00\">absolute_error = 0.956</text>\n<text text-anchor=\"start\" x=\"3617\" y=\"-111.8\" font-family=\"Helvetica,sans-Serif\" font-size=\"14.00\">samples = 521</text>\n<text text-anchor=\"start\" x=\"3617.5\" y=\"-96.8\" font-family=\"Helvetica,sans-Serif\" font-size=\"14.00\">value = 27.303</text>\n</g>\n<!-- 41&#45;&gt;45 -->\n<g id=\"edge45\" class=\"edge\">\n<title>41&#45;&gt;45</title>\n<path fill=\"none\" stroke=\"black\" d=\"M3574.01,-192.88C3586.29,-183.53 3599.79,-173.26 3612.52,-163.57\"/>\n<polygon fill=\"black\" stroke=\"black\" points=\"3614.92,-166.14 3620.75,-157.3 3610.68,-160.57 3614.92,-166.14\"/>\n</g>\n<!-- 43 -->\n<g id=\"node44\" class=\"node\">\n<title>43</title>\n<path fill=\"#f6d4bb\" stroke=\"black\" d=\"M3371,-53C3371,-53 3234,-53 3234,-53 3228,-53 3222,-47 3222,-41 3222,-41 3222,-12 3222,-12 3222,-6 3228,0 3234,0 3234,0 3371,0 3371,0 3377,0 3383,-6 3383,-12 3383,-12 3383,-41 3383,-41 3383,-47 3377,-53 3371,-53\"/>\n<text text-anchor=\"start\" x=\"3230\" y=\"-37.8\" font-family=\"Helvetica,sans-Serif\" font-size=\"14.00\">absolute_error = 0.083</text>\n<text text-anchor=\"start\" x=\"3263\" y=\"-22.8\" font-family=\"Helvetica,sans-Serif\" font-size=\"14.00\">samples = 6</text>\n<text text-anchor=\"start\" x=\"3255.5\" y=\"-7.8\" font-family=\"Helvetica,sans-Serif\" font-size=\"14.00\">value = 25.938</text>\n</g>\n<!-- 42&#45;&gt;43 -->\n<g id=\"edge43\" class=\"edge\">\n<title>42&#45;&gt;43</title>\n<path fill=\"none\" stroke=\"black\" d=\"M3364.27,-88.95C3354.99,-79.71 3344.89,-69.67 3335.61,-60.44\"/>\n<polygon fill=\"black\" stroke=\"black\" points=\"3337.93,-57.81 3328.37,-53.24 3332.99,-62.77 3337.93,-57.81\"/>\n</g>\n<!-- 44 -->\n<g id=\"node45\" class=\"node\">\n<title>44</title>\n<path fill=\"#f4c8a8\" stroke=\"black\" d=\"M3534,-53C3534,-53 3413,-53 3413,-53 3407,-53 3401,-47 3401,-41 3401,-41 3401,-12 3401,-12 3401,-6 3407,0 3413,0 3413,0 3534,0 3534,0 3540,0 3546,-6 3546,-12 3546,-12 3546,-41 3546,-41 3546,-47 3540,-53 3534,-53\"/>\n<text text-anchor=\"start\" x=\"3409\" y=\"-37.8\" font-family=\"Helvetica,sans-Serif\" font-size=\"14.00\">absolute_error = 0.3</text>\n<text text-anchor=\"start\" x=\"3434\" y=\"-22.8\" font-family=\"Helvetica,sans-Serif\" font-size=\"14.00\">samples = 5</text>\n<text text-anchor=\"start\" x=\"3426.5\" y=\"-7.8\" font-family=\"Helvetica,sans-Serif\" font-size=\"14.00\">value = 26.913</text>\n</g>\n<!-- 42&#45;&gt;44 -->\n<g id=\"edge44\" class=\"edge\">\n<title>42&#45;&gt;44</title>\n<path fill=\"none\" stroke=\"black\" d=\"M3424.08,-88.95C3431.29,-79.98 3439.11,-70.27 3446.35,-61.26\"/>\n<polygon fill=\"black\" stroke=\"black\" points=\"3449.26,-63.22 3452.8,-53.24 3443.81,-58.84 3449.26,-63.22\"/>\n</g>\n<!-- 46 -->\n<g id=\"node47\" class=\"node\">\n<title>46</title>\n<path fill=\"#f3c3a0\" stroke=\"black\" d=\"M3705,-53C3705,-53 3576,-53 3576,-53 3570,-53 3564,-47 3564,-41 3564,-41 3564,-12 3564,-12 3564,-6 3570,0 3576,0 3576,0 3705,0 3705,0 3711,0 3717,-6 3717,-12 3717,-12 3717,-41 3717,-41 3717,-47 3711,-53 3705,-53\"/>\n<text text-anchor=\"start\" x=\"3572\" y=\"-37.8\" font-family=\"Helvetica,sans-Serif\" font-size=\"14.00\">absolute_error = 0.91</text>\n<text text-anchor=\"start\" x=\"3593\" y=\"-22.8\" font-family=\"Helvetica,sans-Serif\" font-size=\"14.00\">samples = 501</text>\n<text text-anchor=\"start\" x=\"3593.5\" y=\"-7.8\" font-family=\"Helvetica,sans-Serif\" font-size=\"14.00\">value = 27.331</text>\n</g>\n<!-- 45&#45;&gt;46 -->\n<g id=\"edge46\" class=\"edge\">\n<title>45&#45;&gt;46</title>\n<path fill=\"none\" stroke=\"black\" d=\"M3656.11,-88.95C3653.99,-80.62 3651.71,-71.65 3649.57,-63.2\"/>\n<polygon fill=\"black\" stroke=\"black\" points=\"3652.89,-62.07 3647.04,-53.24 3646.11,-63.79 3652.89,-62.07\"/>\n</g>\n<!-- 47 -->\n<g id=\"node48\" class=\"node\">\n<title>47</title>\n<path fill=\"#f8dbc6\" stroke=\"black\" d=\"M3884,-53C3884,-53 3747,-53 3747,-53 3741,-53 3735,-47 3735,-41 3735,-41 3735,-12 3735,-12 3735,-6 3741,0 3747,0 3747,0 3884,0 3884,0 3890,0 3896,-6 3896,-12 3896,-12 3896,-41 3896,-41 3896,-47 3890,-53 3884,-53\"/>\n<text text-anchor=\"start\" x=\"3743\" y=\"-37.8\" font-family=\"Helvetica,sans-Serif\" font-size=\"14.00\">absolute_error = 1.023</text>\n<text text-anchor=\"start\" x=\"3772\" y=\"-22.8\" font-family=\"Helvetica,sans-Serif\" font-size=\"14.00\">samples = 20</text>\n<text text-anchor=\"start\" x=\"3768.5\" y=\"-7.8\" font-family=\"Helvetica,sans-Serif\" font-size=\"14.00\">value = 25.355</text>\n</g>\n<!-- 45&#45;&gt;47 -->\n<g id=\"edge47\" class=\"edge\">\n<title>45&#45;&gt;47</title>\n<path fill=\"none\" stroke=\"black\" d=\"M3717.31,-88.95C3732.95,-79.16 3750.03,-68.48 3765.48,-58.8\"/>\n<polygon fill=\"black\" stroke=\"black\" points=\"3767.76,-61.51 3774.38,-53.24 3764.04,-55.57 3767.76,-61.51\"/>\n</g>\n<!-- 49 -->\n<g id=\"node50\" class=\"node\">\n<title>49</title>\n<path fill=\"#fef8f4\" stroke=\"black\" d=\"M4168.5,-157C4168.5,-157 3878.5,-157 3878.5,-157 3872.5,-157 3866.5,-151 3866.5,-145 3866.5,-145 3866.5,-101 3866.5,-101 3866.5,-95 3872.5,-89 3878.5,-89 3878.5,-89 4168.5,-89 4168.5,-89 4174.5,-89 4180.5,-95 4180.5,-101 4180.5,-101 4180.5,-145 4180.5,-145 4180.5,-151 4174.5,-157 4168.5,-157\"/>\n<text text-anchor=\"start\" x=\"3874.5\" y=\"-141.8\" font-family=\"Helvetica,sans-Serif\" font-size=\"14.00\">Digester Steam Space Temperature ≤ 148.958</text>\n<text text-anchor=\"start\" x=\"3951\" y=\"-126.8\" font-family=\"Helvetica,sans-Serif\" font-size=\"14.00\">absolute_error = 0.272</text>\n<text text-anchor=\"start\" x=\"3980\" y=\"-111.8\" font-family=\"Helvetica,sans-Serif\" font-size=\"14.00\">samples = 25</text>\n<text text-anchor=\"start\" x=\"3976.5\" y=\"-96.8\" font-family=\"Helvetica,sans-Serif\" font-size=\"14.00\">value = 22.957</text>\n</g>\n<!-- 48&#45;&gt;49 -->\n<g id=\"edge49\" class=\"edge\">\n<title>48&#45;&gt;49</title>\n<path fill=\"none\" stroke=\"black\" d=\"M4023.5,-192.88C4023.5,-184.78 4023.5,-175.98 4023.5,-167.47\"/>\n<polygon fill=\"black\" stroke=\"black\" points=\"4027,-167.3 4023.5,-157.3 4020,-167.3 4027,-167.3\"/>\n</g>\n<!-- 52 -->\n<g id=\"node53\" class=\"node\">\n<title>52</title>\n<path fill=\"#f8ddca\" stroke=\"black\" d=\"M4413,-157C4413,-157 4244,-157 4244,-157 4238,-157 4232,-151 4232,-145 4232,-145 4232,-101 4232,-101 4232,-95 4238,-89 4244,-89 4244,-89 4413,-89 4413,-89 4419,-89 4425,-95 4425,-101 4425,-101 4425,-145 4425,-145 4425,-151 4419,-157 4413,-157\"/>\n<text text-anchor=\"start\" x=\"4240\" y=\"-141.8\" font-family=\"Helvetica,sans-Serif\" font-size=\"14.00\">Blow Temperature ≤ 88.897</text>\n<text text-anchor=\"start\" x=\"4260\" y=\"-126.8\" font-family=\"Helvetica,sans-Serif\" font-size=\"14.00\">absolute_error = 1.22</text>\n<text text-anchor=\"start\" x=\"4285\" y=\"-111.8\" font-family=\"Helvetica,sans-Serif\" font-size=\"14.00\">samples = 32</text>\n<text text-anchor=\"start\" x=\"4281.5\" y=\"-96.8\" font-family=\"Helvetica,sans-Serif\" font-size=\"14.00\">value = 25.173</text>\n</g>\n<!-- 48&#45;&gt;52 -->\n<g id=\"edge52\" class=\"edge\">\n<title>48&#45;&gt;52</title>\n<path fill=\"none\" stroke=\"black\" d=\"M4104.03,-199.07C4140.15,-186.99 4183.26,-172.57 4222,-159.62\"/>\n<polygon fill=\"black\" stroke=\"black\" points=\"4223.38,-162.85 4231.75,-156.36 4221.16,-156.21 4223.38,-162.85\"/>\n</g>\n<!-- 50 -->\n<g id=\"node51\" class=\"node\">\n<title>50</title>\n<path fill=\"#fef8f4\" stroke=\"black\" d=\"M4055,-53C4055,-53 3926,-53 3926,-53 3920,-53 3914,-47 3914,-41 3914,-41 3914,-12 3914,-12 3914,-6 3920,0 3926,0 3926,0 4055,0 4055,0 4061,0 4067,-6 4067,-12 4067,-12 4067,-41 4067,-41 4067,-47 4061,-53 4055,-53\"/>\n<text text-anchor=\"start\" x=\"3922\" y=\"-37.8\" font-family=\"Helvetica,sans-Serif\" font-size=\"14.00\">absolute_error = 0.26</text>\n<text text-anchor=\"start\" x=\"3947\" y=\"-22.8\" font-family=\"Helvetica,sans-Serif\" font-size=\"14.00\">samples = 24</text>\n<text text-anchor=\"start\" x=\"3943.5\" y=\"-7.8\" font-family=\"Helvetica,sans-Serif\" font-size=\"14.00\">value = 22.966</text>\n</g>\n<!-- 49&#45;&gt;50 -->\n<g id=\"edge50\" class=\"edge\">\n<title>49&#45;&gt;50</title>\n<path fill=\"none\" stroke=\"black\" d=\"M4011.96,-88.95C4009.02,-80.53 4005.85,-71.45 4002.87,-62.92\"/>\n<polygon fill=\"black\" stroke=\"black\" points=\"4006.09,-61.52 3999.49,-53.24 3999.48,-63.83 4006.09,-61.52\"/>\n</g>\n<!-- 51 -->\n<g id=\"node52\" class=\"node\">\n<title>51</title>\n<path fill=\"#ffffff\" stroke=\"black\" d=\"M4218,-53C4218,-53 4097,-53 4097,-53 4091,-53 4085,-47 4085,-41 4085,-41 4085,-12 4085,-12 4085,-6 4091,0 4097,0 4097,0 4218,0 4218,0 4224,0 4230,-6 4230,-12 4230,-12 4230,-41 4230,-41 4230,-47 4224,-53 4218,-53\"/>\n<text text-anchor=\"start\" x=\"4093\" y=\"-37.8\" font-family=\"Helvetica,sans-Serif\" font-size=\"14.00\">absolute_error = 0.0</text>\n<text text-anchor=\"start\" x=\"4118\" y=\"-22.8\" font-family=\"Helvetica,sans-Serif\" font-size=\"14.00\">samples = 1</text>\n<text text-anchor=\"start\" x=\"4110.5\" y=\"-7.8\" font-family=\"Helvetica,sans-Serif\" font-size=\"14.00\">value = 22.402</text>\n</g>\n<!-- 49&#45;&gt;51 -->\n<g id=\"edge51\" class=\"edge\">\n<title>49&#45;&gt;51</title>\n<path fill=\"none\" stroke=\"black\" d=\"M4070.37,-88.95C4084.12,-79.25 4099.11,-68.68 4112.73,-59.07\"/>\n<polygon fill=\"black\" stroke=\"black\" points=\"4114.85,-61.86 4121.01,-53.24 4110.82,-56.14 4114.85,-61.86\"/>\n</g>\n<!-- 53 -->\n<g id=\"node54\" class=\"node\">\n<title>53</title>\n<path fill=\"#f8dfcd\" stroke=\"black\" d=\"M4397,-53C4397,-53 4260,-53 4260,-53 4254,-53 4248,-47 4248,-41 4248,-41 4248,-12 4248,-12 4248,-6 4254,0 4260,0 4260,0 4397,0 4397,0 4403,0 4409,-6 4409,-12 4409,-12 4409,-41 4409,-41 4409,-47 4403,-53 4397,-53\"/>\n<text text-anchor=\"start\" x=\"4256\" y=\"-37.8\" font-family=\"Helvetica,sans-Serif\" font-size=\"14.00\">absolute_error = 1.035</text>\n<text text-anchor=\"start\" x=\"4285\" y=\"-22.8\" font-family=\"Helvetica,sans-Serif\" font-size=\"14.00\">samples = 28</text>\n<text text-anchor=\"start\" x=\"4281.5\" y=\"-7.8\" font-family=\"Helvetica,sans-Serif\" font-size=\"14.00\">value = 24.996</text>\n</g>\n<!-- 52&#45;&gt;53 -->\n<g id=\"edge53\" class=\"edge\">\n<title>52&#45;&gt;53</title>\n<path fill=\"none\" stroke=\"black\" d=\"M4328.5,-88.95C4328.5,-80.72 4328.5,-71.85 4328.5,-63.48\"/>\n<polygon fill=\"black\" stroke=\"black\" points=\"4332,-63.24 4328.5,-53.24 4325,-63.24 4332,-63.24\"/>\n</g>\n<!-- 54 -->\n<g id=\"node55\" class=\"node\">\n<title>54</title>\n<path fill=\"#f2c09b\" stroke=\"black\" d=\"M4568,-53C4568,-53 4439,-53 4439,-53 4433,-53 4427,-47 4427,-41 4427,-41 4427,-12 4427,-12 4427,-6 4433,0 4439,0 4439,0 4568,0 4568,0 4574,0 4580,-6 4580,-12 4580,-12 4580,-41 4580,-41 4580,-47 4574,-53 4568,-53\"/>\n<text text-anchor=\"start\" x=\"4435\" y=\"-37.8\" font-family=\"Helvetica,sans-Serif\" font-size=\"14.00\">absolute_error = 0.19</text>\n<text text-anchor=\"start\" x=\"4464\" y=\"-22.8\" font-family=\"Helvetica,sans-Serif\" font-size=\"14.00\">samples = 4</text>\n<text text-anchor=\"start\" x=\"4460.5\" y=\"-7.8\" font-family=\"Helvetica,sans-Serif\" font-size=\"14.00\">value = 27.59</text>\n</g>\n<!-- 52&#45;&gt;54 -->\n<g id=\"edge54\" class=\"edge\">\n<title>52&#45;&gt;54</title>\n<path fill=\"none\" stroke=\"black\" d=\"M4389.71,-88.95C4408.43,-78.84 4428.92,-67.78 4447.29,-57.86\"/>\n<polygon fill=\"black\" stroke=\"black\" points=\"4448.98,-60.92 4456.12,-53.09 4445.66,-54.76 4448.98,-60.92\"/>\n</g>\n</g>\n</svg>\n",
      "text/plain": [
       "<graphviz.sources.Source at 0x26899742550>"
      ]
     },
     "execution_count": 125,
     "metadata": {},
     "output_type": "execute_result"
    }
   ],
   "source": [
    "import graphviz\n",
    "from sklearn import tree\n",
    "\n",
    "def show_decision_tree(clf, data_feature_names, data_target_names, name=\"\"):\n",
    "    \"\"\"\n",
    "    This function visualize a decision tree\n",
    "    From the exercice in Cyberlearn\n",
    "    \"\"\"\n",
    "    dot_data = tree.export_graphviz(clf, out_file=None)\n",
    "    graph = graphviz.Source(dot_data)\n",
    "    graph.render(name)\n",
    "    dot_data = tree.export_graphviz(clf,\n",
    "                                    out_file=None,\n",
    "                                    filled=True,\n",
    "                                    feature_names=data_feature_names,\n",
    "                                    class_names=data_target_names,\n",
    "                                    rounded=True,\n",
    "                                    special_characters=True)\n",
    "    graph = graphviz.Source(dot_data)\n",
    "    return graph\n",
    "\n",
    "\n",
    "show_decision_tree(dtr,dataset.columns,'Blow Kappa',name=\"Blow Kappa\")"
   ]
  }
 ],
 "metadata": {
  "interpreter": {
   "hash": "293f9026d90b10941ea84b6663ecdac4956714d52e946d13e370ba08986cf6e6"
  },
  "kernelspec": {
   "display_name": "Python 3.9.2 64-bit",
   "language": "python",
   "name": "python3"
  },
  "language_info": {
   "codemirror_mode": {
    "name": "ipython",
    "version": 3
   },
   "file_extension": ".py",
   "mimetype": "text/x-python",
   "name": "python",
   "nbconvert_exporter": "python",
   "pygments_lexer": "ipython3",
   "version": "3.9.2"
  },
  "orig_nbformat": 4
 },
 "nbformat": 4,
 "nbformat_minor": 2
}
